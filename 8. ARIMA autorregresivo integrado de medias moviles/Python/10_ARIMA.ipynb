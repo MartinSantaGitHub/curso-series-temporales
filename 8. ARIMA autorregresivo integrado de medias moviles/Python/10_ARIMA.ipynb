{
  "nbformat": 4,
  "nbformat_minor": 0,
  "metadata": {
    "kernelspec": {
      "display_name": "Python 3",
      "language": "python",
      "name": "python3"
    },
    "language_info": {
      "codemirror_mode": {
        "name": "ipython",
        "version": 3
      },
      "file_extension": ".py",
      "mimetype": "text/x-python",
      "name": "python",
      "nbconvert_exporter": "python",
      "pygments_lexer": "ipython3",
      "version": "3.6.7"
    },
    "colab": {
      "name": "10_ARIMA.ipynb",
      "provenance": [],
      "include_colab_link": true
    }
  },
  "cells": [
    {
      "cell_type": "markdown",
      "metadata": {
        "id": "view-in-github",
        "colab_type": "text"
      },
      "source": [
        "<a href=\"https://colab.research.google.com/github/MartinSantaGitHub/curso-series-temporales/blob/master/8.%20ARIMA%20autorregresivo%20integrado%20de%20medias%20moviles/Python/10_ARIMA.ipynb\" target=\"_parent\"><img src=\"https://colab.research.google.com/assets/colab-badge.svg\" alt=\"Open In Colab\"/></a>"
      ]
    },
    {
      "cell_type": "markdown",
      "metadata": {
        "id": "Cp4kdr-x_HsI"
      },
      "source": [
        "## Importing the relevant packages"
      ]
    },
    {
      "cell_type": "code",
      "metadata": {
        "id": "moPT7mZU_HsJ"
      },
      "source": [
        "import pandas as pd\n",
        "import numpy as np\n",
        "import matplotlib.pyplot as plt\n",
        "import statsmodels.graphics.tsaplots as sgt\n",
        "import statsmodels.tsa.stattools as sts\n",
        "from statsmodels.tsa.arima_model import ARIMA\n",
        "from scipy.stats.distributions import chi2 \n",
        "from math import sqrt\n",
        "import seaborn as sns\n",
        "sns.set()"
      ],
      "execution_count": 26,
      "outputs": []
    },
    {
      "cell_type": "markdown",
      "metadata": {
        "id": "wSOk8xjW_HsQ"
      },
      "source": [
        "## Importing the Data and Pre-processing "
      ]
    },
    {
      "cell_type": "code",
      "metadata": {
        "id": "tx2hy-86_HsQ"
      },
      "source": [
        "raw_csv_data = pd.read_csv(\"https://raw.githubusercontent.com/MaddoSaru/curso-series-temporales/master/8.%20ARIMA%20autorregresivo%20integrado%20de%20medias%20moviles/Python/Index2018.csv\") \n",
        "df_comp=raw_csv_data.copy()\n",
        "df_comp.date = pd.to_datetime(df_comp.date, dayfirst = True)\n",
        "df_comp.set_index(\"date\", inplace=True)\n",
        "df_comp=df_comp.asfreq('b')\n",
        "df_comp=df_comp.fillna(method='ffill')"
      ],
      "execution_count": 27,
      "outputs": []
    },
    {
      "cell_type": "code",
      "metadata": {
        "id": "IHOcJRbt_HsX"
      },
      "source": [
        "df_comp['market_value']=df_comp.ftse"
      ],
      "execution_count": 28,
      "outputs": []
    },
    {
      "cell_type": "code",
      "metadata": {
        "id": "NcRs1tTZ_Hsa"
      },
      "source": [
        "import warnings\n",
        "warnings.filterwarnings(\"ignore\")"
      ],
      "execution_count": 29,
      "outputs": []
    },
    {
      "cell_type": "code",
      "metadata": {
        "id": "Vbph14mn_Hse"
      },
      "source": [
        "#del df_comp['spx']\n",
        "#del df_comp['dax']\n",
        "#del df_comp['ftse']\n",
        "#del df_comp['nikkei']\n",
        "size = int(len(df_comp)*0.8)\n",
        "df, df_test = df_comp.iloc[:size], df_comp.iloc[size:]"
      ],
      "execution_count": 30,
      "outputs": []
    },
    {
      "cell_type": "markdown",
      "metadata": {
        "id": "ts4Gb9ct_Hsi"
      },
      "source": [
        "## The LLR Test"
      ]
    },
    {
      "cell_type": "code",
      "metadata": {
        "id": "I1EHa2i9_Hsi"
      },
      "source": [
        "def LLR_test(mod_1, mod_2, DF = 1):\n",
        "    L1 = mod_1.llf\n",
        "    L2 = mod_2.llf\n",
        "    LR = (2*(L2-L1))    \n",
        "    p = chi2.sf(LR, DF).round(3)\n",
        "    return p"
      ],
      "execution_count": 31,
      "outputs": []
    },
    {
      "cell_type": "markdown",
      "metadata": {
        "id": "Nir6U5qL_Hsm"
      },
      "source": [
        "## Creating Returns"
      ]
    },
    {
      "cell_type": "code",
      "metadata": {
        "scrolled": true,
        "id": "j8Suzc_7_Hsm"
      },
      "source": [
        "df['returns'] = df.market_value.pct_change(1)*100"
      ],
      "execution_count": 32,
      "outputs": []
    },
    {
      "cell_type": "markdown",
      "metadata": {
        "id": "h-p_pPxC_Hsp"
      },
      "source": [
        "## ARIMA(1,1,1)"
      ]
    },
    {
      "cell_type": "code",
      "metadata": {
        "id": "CvArS9An_Hsq",
        "colab": {
          "base_uri": "https://localhost:8080/",
          "height": 329
        },
        "outputId": "155be91e-7d14-4cf7-f02c-39a9f212c0b0"
      },
      "source": [
        "model_ar_1_i_1_ma_1 = ARIMA(df.market_value, order=(1,1,1))\n",
        "results_ar_1_i_1_ma_1 = model_ar_1_i_1_ma_1.fit()\n",
        "results_ar_1_i_1_ma_1.summary()"
      ],
      "execution_count": 33,
      "outputs": [
        {
          "output_type": "execute_result",
          "data": {
            "text/html": [
              "<table class=\"simpletable\">\n",
              "<caption>ARIMA Model Results</caption>\n",
              "<tr>\n",
              "  <th>Dep. Variable:</th>  <td>D.market_value</td>  <th>  No. Observations:  </th>    <td>5020</td>   \n",
              "</tr>\n",
              "<tr>\n",
              "  <th>Model:</th>          <td>ARIMA(1, 1, 1)</td>  <th>  Log Likelihood     </th> <td>-27603.666</td>\n",
              "</tr>\n",
              "<tr>\n",
              "  <th>Method:</th>             <td>css-mle</td>     <th>  S.D. of innovations</th>   <td>59.134</td>  \n",
              "</tr>\n",
              "<tr>\n",
              "  <th>Date:</th>          <td>Fri, 23 Apr 2021</td> <th>  AIC                </th>  <td>55215.333</td>\n",
              "</tr>\n",
              "<tr>\n",
              "  <th>Time:</th>              <td>13:56:15</td>     <th>  BIC                </th>  <td>55241.418</td>\n",
              "</tr>\n",
              "<tr>\n",
              "  <th>Sample:</th>           <td>01-10-1994</td>    <th>  HQIC               </th>  <td>55224.473</td>\n",
              "</tr>\n",
              "<tr>\n",
              "  <th></th>                 <td>- 04-05-2013</td>   <th>                     </th>      <td> </td>    \n",
              "</tr>\n",
              "</table>\n",
              "<table class=\"simpletable\">\n",
              "<tr>\n",
              "            <td></td>              <th>coef</th>     <th>std err</th>      <th>z</th>      <th>P>|z|</th>  <th>[0.025</th>    <th>0.975]</th>  \n",
              "</tr>\n",
              "<tr>\n",
              "  <th>const</th>                <td>    0.5656</td> <td>    0.682</td> <td>    0.829</td> <td> 0.407</td> <td>   -0.772</td> <td>    1.903</td>\n",
              "</tr>\n",
              "<tr>\n",
              "  <th>ar.L1.D.market_value</th> <td>    0.7475</td> <td>    0.070</td> <td>   10.652</td> <td> 0.000</td> <td>    0.610</td> <td>    0.885</td>\n",
              "</tr>\n",
              "<tr>\n",
              "  <th>ma.L1.D.market_value</th> <td>   -0.7936</td> <td>    0.064</td> <td>  -12.378</td> <td> 0.000</td> <td>   -0.919</td> <td>   -0.668</td>\n",
              "</tr>\n",
              "</table>\n",
              "<table class=\"simpletable\">\n",
              "<caption>Roots</caption>\n",
              "<tr>\n",
              "    <td></td>   <th>            Real</th>  <th>         Imaginary</th> <th>         Modulus</th>  <th>        Frequency</th>\n",
              "</tr>\n",
              "<tr>\n",
              "  <th>AR.1</th> <td>           1.3378</td> <td>          +0.0000j</td> <td>           1.3378</td> <td>           0.0000</td>\n",
              "</tr>\n",
              "<tr>\n",
              "  <th>MA.1</th> <td>           1.2601</td> <td>          +0.0000j</td> <td>           1.2601</td> <td>           0.0000</td>\n",
              "</tr>\n",
              "</table>"
            ],
            "text/plain": [
              "<class 'statsmodels.iolib.summary.Summary'>\n",
              "\"\"\"\n",
              "                             ARIMA Model Results                              \n",
              "==============================================================================\n",
              "Dep. Variable:         D.market_value   No. Observations:                 5020\n",
              "Model:                 ARIMA(1, 1, 1)   Log Likelihood              -27603.666\n",
              "Method:                       css-mle   S.D. of innovations             59.134\n",
              "Date:                Fri, 23 Apr 2021   AIC                          55215.333\n",
              "Time:                        13:56:15   BIC                          55241.418\n",
              "Sample:                    01-10-1994   HQIC                         55224.473\n",
              "                         - 04-05-2013                                         \n",
              "========================================================================================\n",
              "                           coef    std err          z      P>|z|      [0.025      0.975]\n",
              "----------------------------------------------------------------------------------------\n",
              "const                    0.5656      0.682      0.829      0.407      -0.772       1.903\n",
              "ar.L1.D.market_value     0.7475      0.070     10.652      0.000       0.610       0.885\n",
              "ma.L1.D.market_value    -0.7936      0.064    -12.378      0.000      -0.919      -0.668\n",
              "                                    Roots                                    \n",
              "=============================================================================\n",
              "                  Real          Imaginary           Modulus         Frequency\n",
              "-----------------------------------------------------------------------------\n",
              "AR.1            1.3378           +0.0000j            1.3378            0.0000\n",
              "MA.1            1.2601           +0.0000j            1.2601            0.0000\n",
              "-----------------------------------------------------------------------------\n",
              "\"\"\""
            ]
          },
          "metadata": {
            "tags": []
          },
          "execution_count": 33
        }
      ]
    },
    {
      "cell_type": "markdown",
      "metadata": {
        "id": "wH2AehJD_Hsv"
      },
      "source": [
        "## Residuals of the ARIMA(1,1,1)"
      ]
    },
    {
      "cell_type": "code",
      "metadata": {
        "id": "0iZd-GCJ_Hsw",
        "colab": {
          "base_uri": "https://localhost:8080/",
          "height": 289
        },
        "outputId": "da17af3b-8456-411c-cc01-64ac8f47481e"
      },
      "source": [
        "df['res_ar_1_i_1_ma_1'] = results_ar_1_i_1_ma_1.resid\n",
        "sgt.plot_acf(df.res_ar_1_i_1_ma_1, zero = False, lags = 40)\n",
        "plt.title(\"ACF Of Residuals for ARIMA(1,1,1)\",size=20)\n",
        "plt.show()"
      ],
      "execution_count": 34,
      "outputs": [
        {
          "output_type": "display_data",
          "data": {
            "image/png": "[encoded data removed]",
            "text/plain": [
              "<Figure size 432x288 with 1 Axes>"
            ]
          },
          "metadata": {
            "tags": []
          }
        }
      ]
    },
    {
      "cell_type": "code",
      "metadata": {
        "id": "PuGjzJMO_Hs0",
        "colab": {
          "base_uri": "https://localhost:8080/",
          "height": 289
        },
        "outputId": "4a37451e-2d01-4d64-8a3a-f42ef61fc070"
      },
      "source": [
        "df['res_ar_1_i_1_ma_1'] = results_ar_1_i_1_ma_1.resid.iloc[:]\n",
        "sgt.plot_acf(df.res_ar_1_i_1_ma_1[1:], zero = False, lags = 40)\n",
        "plt.title(\"ACF Of Residuals for ARIMA(1,1,1)\",size=20)\n",
        "plt.show()"
      ],
      "execution_count": 35,
      "outputs": [
        {
          "output_type": "display_data",
          "data": {
            "image/png": "[encoded data removed]",
            "text/plain": [
              "<Figure size 432x288 with 1 Axes>"
            ]
          },
          "metadata": {
            "tags": []
          }
        }
      ]
    },
    {
      "cell_type": "markdown",
      "metadata": {
        "id": "m8DNsUm3_Hs4"
      },
      "source": [
        "## Higher-Lag ARIMA Models"
      ]
    },
    {
      "cell_type": "code",
      "metadata": {
        "id": "SCTSqbZ1_Hs4"
      },
      "source": [
        "model_ar_1_i_1_ma_2 = ARIMA(df.market_value, order=(1,1,2))\n",
        "results_ar_1_i_1_ma_2 = model_ar_1_i_1_ma_2.fit()\n",
        "model_ar_1_i_1_ma_3 = ARIMA(df.market_value, order=(1,1,3))\n",
        "results_ar_1_i_1_ma_3 = model_ar_1_i_1_ma_3.fit()\n",
        "model_ar_2_i_1_ma_1 = ARIMA(df.market_value, order=(2,1,1))\n",
        "results_ar_2_i_1_ma_1 = model_ar_2_i_1_ma_1.fit()\n",
        "model_ar_3_i_1_ma_1 = ARIMA(df.market_value, order=(3,1,1))\n",
        "results_ar_3_i_1_ma_1 = model_ar_3_i_1_ma_1.fit()\n",
        "model_ar_3_i_1_ma_2 = ARIMA(df.market_value, order=(3,1,2))\n",
        "results_ar_3_i_1_ma_2 = model_ar_3_i_1_ma_2.fit(start_ar_lags=5)"
      ],
      "execution_count": 36,
      "outputs": []
    },
    {
      "cell_type": "code",
      "metadata": {
        "id": "ViWXHo5c_Hs7",
        "colab": {
          "base_uri": "https://localhost:8080/"
        },
        "outputId": "42b6ec2c-74a1-46d3-d0d7-9fc97cf32926"
      },
      "source": [
        "print(\"ARIMA(1,1,1):  \\t LL = \", results_ar_1_i_1_ma_1.llf, \"\\t AIC = \", results_ar_1_i_1_ma_1.aic)\n",
        "print(\"ARIMA(1,1,2):  \\t LL = \", results_ar_1_i_1_ma_2.llf, \"\\t AIC = \", results_ar_1_i_1_ma_2.aic)\n",
        "print(\"ARIMA(1,1,3):  \\t LL = \", results_ar_1_i_1_ma_3.llf, \"\\t AIC = \", results_ar_1_i_1_ma_3.aic)\n",
        "print(\"ARIMA(2,1,1):  \\t LL = \", results_ar_2_i_1_ma_1.llf, \"\\t AIC = \", results_ar_2_i_1_ma_1.aic)\n",
        "print(\"ARIMA(3,1,1):  \\t LL = \", results_ar_3_i_1_ma_1.llf, \"\\t AIC = \", results_ar_3_i_1_ma_1.aic)\n",
        "print(\"ARIMA(3,1,2):  \\t LL = \", results_ar_3_i_1_ma_2.llf, \"\\t AIC = \", results_ar_3_i_1_ma_2.aic)"
      ],
      "execution_count": 37,
      "outputs": [
        {
          "output_type": "stream",
          "text": [
            "ARIMA(1,1,1):  \t LL =  -27603.66641276839 \t AIC =  55215.33282553678\n",
            "ARIMA(1,1,2):  \t LL =  -27600.081863151576 \t AIC =  55210.16372630315\n",
            "ARIMA(1,1,3):  \t LL =  -27590.424032629428 \t AIC =  55192.848065258855\n",
            "ARIMA(2,1,1):  \t LL =  -27599.80748785492 \t AIC =  55209.61497570984\n",
            "ARIMA(3,1,1):  \t LL =  -27592.05537171072 \t AIC =  55196.11074342144\n",
            "ARIMA(3,1,2):  \t LL =  -27590.660808978784 \t AIC =  55195.32161795757\n"
          ],
          "name": "stdout"
        }
      ]
    },
    {
      "cell_type": "code",
      "metadata": {
        "id": "buRaDHDo_Hs_",
        "colab": {
          "base_uri": "https://localhost:8080/"
        },
        "outputId": "55416494-d964-4570-9948-58d7a8ea03eb"
      },
      "source": [
        "print(\"\\nLLR test p-value = \" + str(LLR_test(results_ar_1_i_1_ma_2, results_ar_1_i_1_ma_3)))"
      ],
      "execution_count": 38,
      "outputs": [
        {
          "output_type": "stream",
          "text": [
            "\n",
            "LLR test p-value = 0.0\n"
          ],
          "name": "stdout"
        }
      ]
    },
    {
      "cell_type": "code",
      "metadata": {
        "id": "J3RzLwYC_HtC",
        "colab": {
          "base_uri": "https://localhost:8080/"
        },
        "outputId": "ea11110b-f7b7-48d1-b4e9-4132e23abebb"
      },
      "source": [
        "print(\"\\nLLR test p-value = \" + str(LLR_test(results_ar_1_i_1_ma_1, results_ar_1_i_1_ma_3, DF = 2)))"
      ],
      "execution_count": 39,
      "outputs": [
        {
          "output_type": "stream",
          "text": [
            "\n",
            "LLR test p-value = 0.0\n"
          ],
          "name": "stdout"
        }
      ]
    },
    {
      "cell_type": "code",
      "metadata": {
        "id": "HHFATUhd_HtE",
        "colab": {
          "base_uri": "https://localhost:8080/",
          "height": 289
        },
        "outputId": "93338b92-ca68-421c-ed60-1010bafdb20f"
      },
      "source": [
        "df['res_ar_1_i_1_ma_3'] = results_ar_1_i_1_ma_3.resid\n",
        "sgt.plot_acf(df.res_ar_1_i_1_ma_3[1:], zero = False, lags = 40)\n",
        "plt.title(\"ACF Of Residuals for ARIMA(1,1,3)\", size=20)\n",
        "plt.show()"
      ],
      "execution_count": 40,
      "outputs": [
        {
          "output_type": "display_data",
          "data": {
            "image/png": "[encoded data removed]",
            "text/plain": [
              "<Figure size 432x288 with 1 Axes>"
            ]
          },
          "metadata": {
            "tags": []
          }
        }
      ]
    },
    {
      "cell_type": "code",
      "metadata": {
        "id": "hhGNSegg_HtH",
        "colab": {
          "base_uri": "https://localhost:8080/",
          "height": 486
        },
        "outputId": "a2aa6486-4dcc-4f46-b06b-5099130669ed"
      },
      "source": [
        "model_ar_5_i_1_ma_1 = ARIMA(df.market_value, order=(5,1,1))\n",
        "results_ar_5_i_1_ma_1 = model_ar_5_i_1_ma_1.fit(start_ar_lags=11)\n",
        "results_ar_5_i_1_ma_1.summary()"
      ],
      "execution_count": 41,
      "outputs": [
        {
          "output_type": "execute_result",
          "data": {
            "text/html": [
              "<table class=\"simpletable\">\n",
              "<caption>ARIMA Model Results</caption>\n",
              "<tr>\n",
              "  <th>Dep. Variable:</th>  <td>D.market_value</td>  <th>  No. Observations:  </th>    <td>5020</td>   \n",
              "</tr>\n",
              "<tr>\n",
              "  <th>Model:</th>          <td>ARIMA(5, 1, 1)</td>  <th>  Log Likelihood     </th> <td>-27586.512</td>\n",
              "</tr>\n",
              "<tr>\n",
              "  <th>Method:</th>             <td>css-mle</td>     <th>  S.D. of innovations</th>   <td>58.932</td>  \n",
              "</tr>\n",
              "<tr>\n",
              "  <th>Date:</th>          <td>Fri, 23 Apr 2021</td> <th>  AIC                </th>  <td>55189.024</td>\n",
              "</tr>\n",
              "<tr>\n",
              "  <th>Time:</th>              <td>13:56:22</td>     <th>  BIC                </th>  <td>55241.193</td>\n",
              "</tr>\n",
              "<tr>\n",
              "  <th>Sample:</th>           <td>01-10-1994</td>    <th>  HQIC               </th>  <td>55207.305</td>\n",
              "</tr>\n",
              "<tr>\n",
              "  <th></th>                 <td>- 04-05-2013</td>   <th>                     </th>      <td> </td>    \n",
              "</tr>\n",
              "</table>\n",
              "<table class=\"simpletable\">\n",
              "<tr>\n",
              "            <td></td>              <th>coef</th>     <th>std err</th>      <th>z</th>      <th>P>|z|</th>  <th>[0.025</th>    <th>0.975]</th>  \n",
              "</tr>\n",
              "<tr>\n",
              "  <th>const</th>                <td>    0.5663</td> <td>    0.690</td> <td>    0.820</td> <td> 0.412</td> <td>   -0.787</td> <td>    1.920</td>\n",
              "</tr>\n",
              "<tr>\n",
              "  <th>ar.L1.D.market_value</th> <td>    0.4011</td> <td>    0.159</td> <td>    2.529</td> <td> 0.011</td> <td>    0.090</td> <td>    0.712</td>\n",
              "</tr>\n",
              "<tr>\n",
              "  <th>ar.L2.D.market_value</th> <td>   -0.0445</td> <td>    0.016</td> <td>   -2.856</td> <td> 0.004</td> <td>   -0.075</td> <td>   -0.014</td>\n",
              "</tr>\n",
              "<tr>\n",
              "  <th>ar.L3.D.market_value</th> <td>   -0.0543</td> <td>    0.017</td> <td>   -3.163</td> <td> 0.002</td> <td>   -0.088</td> <td>   -0.021</td>\n",
              "</tr>\n",
              "<tr>\n",
              "  <th>ar.L4.D.market_value</th> <td>    0.0586</td> <td>    0.019</td> <td>    3.069</td> <td> 0.002</td> <td>    0.021</td> <td>    0.096</td>\n",
              "</tr>\n",
              "<tr>\n",
              "  <th>ar.L5.D.market_value</th> <td>   -0.0581</td> <td>    0.014</td> <td>   -4.118</td> <td> 0.000</td> <td>   -0.086</td> <td>   -0.030</td>\n",
              "</tr>\n",
              "<tr>\n",
              "  <th>ma.L1.D.market_value</th> <td>   -0.4213</td> <td>    0.158</td> <td>   -2.659</td> <td> 0.008</td> <td>   -0.732</td> <td>   -0.111</td>\n",
              "</tr>\n",
              "</table>\n",
              "<table class=\"simpletable\">\n",
              "<caption>Roots</caption>\n",
              "<tr>\n",
              "    <td></td>   <th>            Real</th>  <th>         Imaginary</th> <th>         Modulus</th>  <th>        Frequency</th>\n",
              "</tr>\n",
              "<tr>\n",
              "  <th>AR.1</th> <td>          -1.7609</td> <td>          -0.0000j</td> <td>           1.7609</td> <td>          -0.5000</td>\n",
              "</tr>\n",
              "<tr>\n",
              "  <th>AR.2</th> <td>           1.4633</td> <td>          -0.8605j</td> <td>           1.6975</td> <td>          -0.0846</td>\n",
              "</tr>\n",
              "<tr>\n",
              "  <th>AR.3</th> <td>           1.4633</td> <td>          +0.8605j</td> <td>           1.6975</td> <td>           0.0846</td>\n",
              "</tr>\n",
              "<tr>\n",
              "  <th>AR.4</th> <td>          -0.0790</td> <td>          -1.8393j</td> <td>           1.8410</td> <td>          -0.2568</td>\n",
              "</tr>\n",
              "<tr>\n",
              "  <th>AR.5</th> <td>          -0.0790</td> <td>          +1.8393j</td> <td>           1.8410</td> <td>           0.2568</td>\n",
              "</tr>\n",
              "<tr>\n",
              "  <th>MA.1</th> <td>           2.3734</td> <td>          +0.0000j</td> <td>           2.3734</td> <td>           0.0000</td>\n",
              "</tr>\n",
              "</table>"
            ],
            "text/plain": [
              "<class 'statsmodels.iolib.summary.Summary'>\n",
              "\"\"\"\n",
              "                             ARIMA Model Results                              \n",
              "==============================================================================\n",
              "Dep. Variable:         D.market_value   No. Observations:                 5020\n",
              "Model:                 ARIMA(5, 1, 1)   Log Likelihood              -27586.512\n",
              "Method:                       css-mle   S.D. of innovations             58.932\n",
              "Date:                Fri, 23 Apr 2021   AIC                          55189.024\n",
              "Time:                        13:56:22   BIC                          55241.193\n",
              "Sample:                    01-10-1994   HQIC                         55207.305\n",
              "                         - 04-05-2013                                         \n",
              "========================================================================================\n",
              "                           coef    std err          z      P>|z|      [0.025      0.975]\n",
              "----------------------------------------------------------------------------------------\n",
              "const                    0.5663      0.690      0.820      0.412      -0.787       1.920\n",
              "ar.L1.D.market_value     0.4011      0.159      2.529      0.011       0.090       0.712\n",
              "ar.L2.D.market_value    -0.0445      0.016     -2.856      0.004      -0.075      -0.014\n",
              "ar.L3.D.market_value    -0.0543      0.017     -3.163      0.002      -0.088      -0.021\n",
              "ar.L4.D.market_value     0.0586      0.019      3.069      0.002       0.021       0.096\n",
              "ar.L5.D.market_value    -0.0581      0.014     -4.118      0.000      -0.086      -0.030\n",
              "ma.L1.D.market_value    -0.4213      0.158     -2.659      0.008      -0.732      -0.111\n",
              "                                    Roots                                    \n",
              "=============================================================================\n",
              "                  Real          Imaginary           Modulus         Frequency\n",
              "-----------------------------------------------------------------------------\n",
              "AR.1           -1.7609           -0.0000j            1.7609           -0.5000\n",
              "AR.2            1.4633           -0.8605j            1.6975           -0.0846\n",
              "AR.3            1.4633           +0.8605j            1.6975            0.0846\n",
              "AR.4           -0.0790           -1.8393j            1.8410           -0.2568\n",
              "AR.5           -0.0790           +1.8393j            1.8410            0.2568\n",
              "MA.1            2.3734           +0.0000j            2.3734            0.0000\n",
              "-----------------------------------------------------------------------------\n",
              "\"\"\""
            ]
          },
          "metadata": {
            "tags": []
          },
          "execution_count": 41
        }
      ]
    },
    {
      "cell_type": "code",
      "metadata": {
        "id": "myDm8418_HtN",
        "colab": {
          "base_uri": "https://localhost:8080/"
        },
        "outputId": "a68e7c11-6ad2-4a80-af33-882371c74bf8"
      },
      "source": [
        "print(\"ARIMA(1,1,3):  \\t LL = \", results_ar_1_i_1_ma_3.llf, \"\\t AIC = \", results_ar_1_i_1_ma_3.aic)\n",
        "print(\"ARIMA(5,1,1):  \\t LL = \", results_ar_5_i_1_ma_1.llf, \"\\t AIC = \", results_ar_5_i_1_ma_1.aic)"
      ],
      "execution_count": 42,
      "outputs": [
        {
          "output_type": "stream",
          "text": [
            "ARIMA(1,1,3):  \t LL =  -27590.424032629428 \t AIC =  55192.848065258855\n",
            "ARIMA(5,1,1):  \t LL =  -27586.51188811041 \t AIC =  55189.02377622082\n"
          ],
          "name": "stdout"
        }
      ]
    },
    {
      "cell_type": "code",
      "metadata": {
        "id": "WbiitMlR_HtV",
        "colab": {
          "base_uri": "https://localhost:8080/",
          "height": 289
        },
        "outputId": "dedd46af-2ed6-46a2-fae7-491b06503c54"
      },
      "source": [
        "df['res_ar_5_i_1_ma_1'] = results_ar_5_i_1_ma_1.resid\n",
        "sgt.plot_acf(df.res_ar_5_i_1_ma_1[1:], zero = False, lags = 40)\n",
        "plt.title(\"ACF Of Residuals for ARIMA(5,1,1)\", size=20)\n",
        "plt.show()"
      ],
      "execution_count": 43,
      "outputs": [
        {
          "output_type": "display_data",
          "data": {
            "image/png": "[encoded data removed]",
            "text/plain": [
              "<Figure size 432x288 with 1 Axes>"
            ]
          },
          "metadata": {
            "tags": []
          }
        }
      ]
    },
    {
      "cell_type": "markdown",
      "metadata": {
        "id": "jekdLhe0_HtY"
      },
      "source": [
        "## Models with Higher Levels of Integration"
      ]
    },
    {
      "cell_type": "code",
      "metadata": {
        "id": "S91XIg5d_HtY"
      },
      "source": [
        "df['delta_prices']=df.market_value.diff(1)"
      ],
      "execution_count": 44,
      "outputs": []
    },
    {
      "cell_type": "code",
      "metadata": {
        "scrolled": true,
        "id": "WbJZ7Es0_Htd",
        "colab": {
          "base_uri": "https://localhost:8080/",
          "height": 329
        },
        "outputId": "fa8ab637-6ae4-4791-fd73-a6940361bbd2"
      },
      "source": [
        "model_delta_ar_1_i_1_ma_1 = ARIMA(df.delta_prices[1:], order=(1,0,1))\n",
        "results_delta_ar_1_i_1_ma_1 = model_delta_ar_1_i_1_ma_1.fit()\n",
        "results_delta_ar_1_i_1_ma_1.summary()"
      ],
      "execution_count": 45,
      "outputs": [
        {
          "output_type": "execute_result",
          "data": {
            "text/html": [
              "<table class=\"simpletable\">\n",
              "<caption>ARMA Model Results</caption>\n",
              "<tr>\n",
              "  <th>Dep. Variable:</th>   <td>delta_prices</td>   <th>  No. Observations:  </th>    <td>5020</td>   \n",
              "</tr>\n",
              "<tr>\n",
              "  <th>Model:</th>            <td>ARMA(1, 1)</td>    <th>  Log Likelihood     </th> <td>-27603.666</td>\n",
              "</tr>\n",
              "<tr>\n",
              "  <th>Method:</th>             <td>css-mle</td>     <th>  S.D. of innovations</th>   <td>59.134</td>  \n",
              "</tr>\n",
              "<tr>\n",
              "  <th>Date:</th>          <td>Fri, 23 Apr 2021</td> <th>  AIC                </th>  <td>55215.333</td>\n",
              "</tr>\n",
              "<tr>\n",
              "  <th>Time:</th>              <td>13:56:24</td>     <th>  BIC                </th>  <td>55241.418</td>\n",
              "</tr>\n",
              "<tr>\n",
              "  <th>Sample:</th>           <td>01-10-1994</td>    <th>  HQIC               </th>  <td>55224.473</td>\n",
              "</tr>\n",
              "<tr>\n",
              "  <th></th>                 <td>- 04-05-2013</td>   <th>                     </th>      <td> </td>    \n",
              "</tr>\n",
              "</table>\n",
              "<table class=\"simpletable\">\n",
              "<tr>\n",
              "           <td></td>             <th>coef</th>     <th>std err</th>      <th>z</th>      <th>P>|z|</th>  <th>[0.025</th>    <th>0.975]</th>  \n",
              "</tr>\n",
              "<tr>\n",
              "  <th>const</th>              <td>    0.5656</td> <td>    0.682</td> <td>    0.829</td> <td> 0.407</td> <td>   -0.772</td> <td>    1.903</td>\n",
              "</tr>\n",
              "<tr>\n",
              "  <th>ar.L1.delta_prices</th> <td>    0.7475</td> <td>    0.070</td> <td>   10.652</td> <td> 0.000</td> <td>    0.610</td> <td>    0.885</td>\n",
              "</tr>\n",
              "<tr>\n",
              "  <th>ma.L1.delta_prices</th> <td>   -0.7936</td> <td>    0.064</td> <td>  -12.378</td> <td> 0.000</td> <td>   -0.919</td> <td>   -0.668</td>\n",
              "</tr>\n",
              "</table>\n",
              "<table class=\"simpletable\">\n",
              "<caption>Roots</caption>\n",
              "<tr>\n",
              "    <td></td>   <th>            Real</th>  <th>         Imaginary</th> <th>         Modulus</th>  <th>        Frequency</th>\n",
              "</tr>\n",
              "<tr>\n",
              "  <th>AR.1</th> <td>           1.3378</td> <td>          +0.0000j</td> <td>           1.3378</td> <td>           0.0000</td>\n",
              "</tr>\n",
              "<tr>\n",
              "  <th>MA.1</th> <td>           1.2601</td> <td>          +0.0000j</td> <td>           1.2601</td> <td>           0.0000</td>\n",
              "</tr>\n",
              "</table>"
            ],
            "text/plain": [
              "<class 'statsmodels.iolib.summary.Summary'>\n",
              "\"\"\"\n",
              "                              ARMA Model Results                              \n",
              "==============================================================================\n",
              "Dep. Variable:           delta_prices   No. Observations:                 5020\n",
              "Model:                     ARMA(1, 1)   Log Likelihood              -27603.666\n",
              "Method:                       css-mle   S.D. of innovations             59.134\n",
              "Date:                Fri, 23 Apr 2021   AIC                          55215.333\n",
              "Time:                        13:56:24   BIC                          55241.418\n",
              "Sample:                    01-10-1994   HQIC                         55224.473\n",
              "                         - 04-05-2013                                         \n",
              "======================================================================================\n",
              "                         coef    std err          z      P>|z|      [0.025      0.975]\n",
              "--------------------------------------------------------------------------------------\n",
              "const                  0.5656      0.682      0.829      0.407      -0.772       1.903\n",
              "ar.L1.delta_prices     0.7475      0.070     10.652      0.000       0.610       0.885\n",
              "ma.L1.delta_prices    -0.7936      0.064    -12.378      0.000      -0.919      -0.668\n",
              "                                    Roots                                    \n",
              "=============================================================================\n",
              "                  Real          Imaginary           Modulus         Frequency\n",
              "-----------------------------------------------------------------------------\n",
              "AR.1            1.3378           +0.0000j            1.3378            0.0000\n",
              "MA.1            1.2601           +0.0000j            1.2601            0.0000\n",
              "-----------------------------------------------------------------------------\n",
              "\"\"\""
            ]
          },
          "metadata": {
            "tags": []
          },
          "execution_count": 45
        }
      ]
    },
    {
      "cell_type": "code",
      "metadata": {
        "id": "uj90onbul0DD",
        "colab": {
          "base_uri": "https://localhost:8080/",
          "height": 329
        },
        "outputId": "527fafa5-cbf1-4e68-84b1-27597f7820de"
      },
      "source": [
        "model_ar_1_i_1_ma_1 = ARIMA(df.market_value, order=(1,1,1))\n",
        "results_ar_1_i_1_ma_1 = model_ar_1_i_1_ma_1.fit()\n",
        "results_ar_1_i_1_ma_1.summary()"
      ],
      "execution_count": 46,
      "outputs": [
        {
          "output_type": "execute_result",
          "data": {
            "text/html": [
              "<table class=\"simpletable\">\n",
              "<caption>ARIMA Model Results</caption>\n",
              "<tr>\n",
              "  <th>Dep. Variable:</th>  <td>D.market_value</td>  <th>  No. Observations:  </th>    <td>5020</td>   \n",
              "</tr>\n",
              "<tr>\n",
              "  <th>Model:</th>          <td>ARIMA(1, 1, 1)</td>  <th>  Log Likelihood     </th> <td>-27603.666</td>\n",
              "</tr>\n",
              "<tr>\n",
              "  <th>Method:</th>             <td>css-mle</td>     <th>  S.D. of innovations</th>   <td>59.134</td>  \n",
              "</tr>\n",
              "<tr>\n",
              "  <th>Date:</th>          <td>Fri, 23 Apr 2021</td> <th>  AIC                </th>  <td>55215.333</td>\n",
              "</tr>\n",
              "<tr>\n",
              "  <th>Time:</th>              <td>13:56:25</td>     <th>  BIC                </th>  <td>55241.418</td>\n",
              "</tr>\n",
              "<tr>\n",
              "  <th>Sample:</th>           <td>01-10-1994</td>    <th>  HQIC               </th>  <td>55224.473</td>\n",
              "</tr>\n",
              "<tr>\n",
              "  <th></th>                 <td>- 04-05-2013</td>   <th>                     </th>      <td> </td>    \n",
              "</tr>\n",
              "</table>\n",
              "<table class=\"simpletable\">\n",
              "<tr>\n",
              "            <td></td>              <th>coef</th>     <th>std err</th>      <th>z</th>      <th>P>|z|</th>  <th>[0.025</th>    <th>0.975]</th>  \n",
              "</tr>\n",
              "<tr>\n",
              "  <th>const</th>                <td>    0.5656</td> <td>    0.682</td> <td>    0.829</td> <td> 0.407</td> <td>   -0.772</td> <td>    1.903</td>\n",
              "</tr>\n",
              "<tr>\n",
              "  <th>ar.L1.D.market_value</th> <td>    0.7475</td> <td>    0.070</td> <td>   10.652</td> <td> 0.000</td> <td>    0.610</td> <td>    0.885</td>\n",
              "</tr>\n",
              "<tr>\n",
              "  <th>ma.L1.D.market_value</th> <td>   -0.7936</td> <td>    0.064</td> <td>  -12.378</td> <td> 0.000</td> <td>   -0.919</td> <td>   -0.668</td>\n",
              "</tr>\n",
              "</table>\n",
              "<table class=\"simpletable\">\n",
              "<caption>Roots</caption>\n",
              "<tr>\n",
              "    <td></td>   <th>            Real</th>  <th>         Imaginary</th> <th>         Modulus</th>  <th>        Frequency</th>\n",
              "</tr>\n",
              "<tr>\n",
              "  <th>AR.1</th> <td>           1.3378</td> <td>          +0.0000j</td> <td>           1.3378</td> <td>           0.0000</td>\n",
              "</tr>\n",
              "<tr>\n",
              "  <th>MA.1</th> <td>           1.2601</td> <td>          +0.0000j</td> <td>           1.2601</td> <td>           0.0000</td>\n",
              "</tr>\n",
              "</table>"
            ],
            "text/plain": [
              "<class 'statsmodels.iolib.summary.Summary'>\n",
              "\"\"\"\n",
              "                             ARIMA Model Results                              \n",
              "==============================================================================\n",
              "Dep. Variable:         D.market_value   No. Observations:                 5020\n",
              "Model:                 ARIMA(1, 1, 1)   Log Likelihood              -27603.666\n",
              "Method:                       css-mle   S.D. of innovations             59.134\n",
              "Date:                Fri, 23 Apr 2021   AIC                          55215.333\n",
              "Time:                        13:56:25   BIC                          55241.418\n",
              "Sample:                    01-10-1994   HQIC                         55224.473\n",
              "                         - 04-05-2013                                         \n",
              "========================================================================================\n",
              "                           coef    std err          z      P>|z|      [0.025      0.975]\n",
              "----------------------------------------------------------------------------------------\n",
              "const                    0.5656      0.682      0.829      0.407      -0.772       1.903\n",
              "ar.L1.D.market_value     0.7475      0.070     10.652      0.000       0.610       0.885\n",
              "ma.L1.D.market_value    -0.7936      0.064    -12.378      0.000      -0.919      -0.668\n",
              "                                    Roots                                    \n",
              "=============================================================================\n",
              "                  Real          Imaginary           Modulus         Frequency\n",
              "-----------------------------------------------------------------------------\n",
              "AR.1            1.3378           +0.0000j            1.3378            0.0000\n",
              "MA.1            1.2601           +0.0000j            1.2601            0.0000\n",
              "-----------------------------------------------------------------------------\n",
              "\"\"\""
            ]
          },
          "metadata": {
            "tags": []
          },
          "execution_count": 46
        }
      ]
    },
    {
      "cell_type": "code",
      "metadata": {
        "id": "k0jyXYv8_Hti",
        "colab": {
          "base_uri": "https://localhost:8080/"
        },
        "outputId": "c3957341-39f6-420d-82a8-212557b62d95"
      },
      "source": [
        "sts.adfuller(df.delta_prices[1:])"
      ],
      "execution_count": 47,
      "outputs": [
        {
          "output_type": "execute_result",
          "data": {
            "text/plain": [
              "(-32.244093495707475,\n",
              " 0.0,\n",
              " 5,\n",
              " 5014,\n",
              " {'1%': -3.4316548765428174,\n",
              "  '10%': -2.5670769326348926,\n",
              "  '5%': -2.8621166146845334},\n",
              " 54845.96104221891)"
            ]
          },
          "metadata": {
            "tags": []
          },
          "execution_count": 47
        }
      ]
    },
    {
      "cell_type": "markdown",
      "metadata": {
        "id": "4-IIe77P_Htr"
      },
      "source": [
        "## ARIMAX "
      ]
    },
    {
      "cell_type": "code",
      "metadata": {
        "id": "s5pznOcN_Htr",
        "colab": {
          "base_uri": "https://localhost:8080/",
          "height": 349
        },
        "outputId": "2233dc92-3430-4fc8-aa7a-0d4d798f9927"
      },
      "source": [
        "model_ar_1_i_1_ma_1_Xspx = ARIMA(df.market_value, exog = df.spx, order=(1,1,1))\n",
        "results_ar_1_i_1_ma_1_Xspx = model_ar_1_i_1_ma_1_Xspx.fit()\n",
        "results_ar_1_i_1_ma_1_Xspx.summary()"
      ],
      "execution_count": 48,
      "outputs": [
        {
          "output_type": "execute_result",
          "data": {
            "text/html": [
              "<table class=\"simpletable\">\n",
              "<caption>ARIMA Model Results</caption>\n",
              "<tr>\n",
              "  <th>Dep. Variable:</th>  <td>D.market_value</td>  <th>  No. Observations:  </th>    <td>5020</td>   \n",
              "</tr>\n",
              "<tr>\n",
              "  <th>Model:</th>          <td>ARIMA(1, 1, 1)</td>  <th>  Log Likelihood     </th> <td>-27603.556</td>\n",
              "</tr>\n",
              "<tr>\n",
              "  <th>Method:</th>             <td>css-mle</td>     <th>  S.D. of innovations</th>   <td>59.132</td>  \n",
              "</tr>\n",
              "<tr>\n",
              "  <th>Date:</th>          <td>Fri, 23 Apr 2021</td> <th>  AIC                </th>  <td>55217.112</td>\n",
              "</tr>\n",
              "<tr>\n",
              "  <th>Time:</th>              <td>13:56:27</td>     <th>  BIC                </th>  <td>55249.718</td>\n",
              "</tr>\n",
              "<tr>\n",
              "  <th>Sample:</th>           <td>01-10-1994</td>    <th>  HQIC               </th>  <td>55228.538</td>\n",
              "</tr>\n",
              "<tr>\n",
              "  <th></th>                 <td>- 04-05-2013</td>   <th>                     </th>      <td> </td>    \n",
              "</tr>\n",
              "</table>\n",
              "<table class=\"simpletable\">\n",
              "<tr>\n",
              "            <td></td>              <th>coef</th>     <th>std err</th>      <th>z</th>      <th>P>|z|</th>  <th>[0.025</th>    <th>0.975]</th>  \n",
              "</tr>\n",
              "<tr>\n",
              "  <th>const</th>                <td>   -0.5842</td> <td>    2.655</td> <td>   -0.220</td> <td> 0.826</td> <td>   -5.789</td> <td>    4.620</td>\n",
              "</tr>\n",
              "<tr>\n",
              "  <th>spx</th>                  <td>    0.0011</td> <td>    0.002</td> <td>    0.450</td> <td> 0.653</td> <td>   -0.004</td> <td>    0.006</td>\n",
              "</tr>\n",
              "<tr>\n",
              "  <th>ar.L1.D.market_value</th> <td>    0.7456</td> <td>    0.070</td> <td>   10.578</td> <td> 0.000</td> <td>    0.607</td> <td>    0.884</td>\n",
              "</tr>\n",
              "<tr>\n",
              "  <th>ma.L1.D.market_value</th> <td>   -0.7917</td> <td>    0.065</td> <td>  -12.274</td> <td> 0.000</td> <td>   -0.918</td> <td>   -0.665</td>\n",
              "</tr>\n",
              "</table>\n",
              "<table class=\"simpletable\">\n",
              "<caption>Roots</caption>\n",
              "<tr>\n",
              "    <td></td>   <th>            Real</th>  <th>         Imaginary</th> <th>         Modulus</th>  <th>        Frequency</th>\n",
              "</tr>\n",
              "<tr>\n",
              "  <th>AR.1</th> <td>           1.3412</td> <td>          +0.0000j</td> <td>           1.3412</td> <td>           0.0000</td>\n",
              "</tr>\n",
              "<tr>\n",
              "  <th>MA.1</th> <td>           1.2632</td> <td>          +0.0000j</td> <td>           1.2632</td> <td>           0.0000</td>\n",
              "</tr>\n",
              "</table>"
            ],
            "text/plain": [
              "<class 'statsmodels.iolib.summary.Summary'>\n",
              "\"\"\"\n",
              "                             ARIMA Model Results                              \n",
              "==============================================================================\n",
              "Dep. Variable:         D.market_value   No. Observations:                 5020\n",
              "Model:                 ARIMA(1, 1, 1)   Log Likelihood              -27603.556\n",
              "Method:                       css-mle   S.D. of innovations             59.132\n",
              "Date:                Fri, 23 Apr 2021   AIC                          55217.112\n",
              "Time:                        13:56:27   BIC                          55249.718\n",
              "Sample:                    01-10-1994   HQIC                         55228.538\n",
              "                         - 04-05-2013                                         \n",
              "========================================================================================\n",
              "                           coef    std err          z      P>|z|      [0.025      0.975]\n",
              "----------------------------------------------------------------------------------------\n",
              "const                   -0.5842      2.655     -0.220      0.826      -5.789       4.620\n",
              "spx                      0.0011      0.002      0.450      0.653      -0.004       0.006\n",
              "ar.L1.D.market_value     0.7456      0.070     10.578      0.000       0.607       0.884\n",
              "ma.L1.D.market_value    -0.7917      0.065    -12.274      0.000      -0.918      -0.665\n",
              "                                    Roots                                    \n",
              "=============================================================================\n",
              "                  Real          Imaginary           Modulus         Frequency\n",
              "-----------------------------------------------------------------------------\n",
              "AR.1            1.3412           +0.0000j            1.3412            0.0000\n",
              "MA.1            1.2632           +0.0000j            1.2632            0.0000\n",
              "-----------------------------------------------------------------------------\n",
              "\"\"\""
            ]
          },
          "metadata": {
            "tags": []
          },
          "execution_count": 48
        }
      ]
    },
    {
      "cell_type": "markdown",
      "metadata": {
        "id": "i3XDjoTFGDVI"
      },
      "source": [
        "# **ARIMAX: All the prices**"
      ]
    },
    {
      "cell_type": "code",
      "metadata": {
        "id": "ZFu9-WeTGHne",
        "colab": {
          "base_uri": "https://localhost:8080/",
          "height": 226
        },
        "outputId": "8efa5e81-3a81-42d1-d759-d6feec6177ae"
      },
      "source": [
        "dfexog = df[['spx', 'dax', 'nikkei']]\n",
        "dfexog.head()"
      ],
      "execution_count": 49,
      "outputs": [
        {
          "output_type": "execute_result",
          "data": {
            "text/html": [
              "<div>\n",
              "<style scoped>\n",
              "    .dataframe tbody tr th:only-of-type {\n",
              "        vertical-align: middle;\n",
              "    }\n",
              "\n",
              "    .dataframe tbody tr th {\n",
              "        vertical-align: top;\n",
              "    }\n",
              "\n",
              "    .dataframe thead th {\n",
              "        text-align: right;\n",
              "    }\n",
              "</style>\n",
              "<table border=\"1\" class=\"dataframe\">\n",
              "  <thead>\n",
              "    <tr style=\"text-align: right;\">\n",
              "      <th></th>\n",
              "      <th>spx</th>\n",
              "      <th>dax</th>\n",
              "      <th>nikkei</th>\n",
              "    </tr>\n",
              "    <tr>\n",
              "      <th>date</th>\n",
              "      <th></th>\n",
              "      <th></th>\n",
              "      <th></th>\n",
              "    </tr>\n",
              "  </thead>\n",
              "  <tbody>\n",
              "    <tr>\n",
              "      <th>1994-01-07</th>\n",
              "      <td>469.90</td>\n",
              "      <td>2224.95</td>\n",
              "      <td>18124.01</td>\n",
              "    </tr>\n",
              "    <tr>\n",
              "      <th>1994-01-10</th>\n",
              "      <td>475.27</td>\n",
              "      <td>2225.00</td>\n",
              "      <td>18443.44</td>\n",
              "    </tr>\n",
              "    <tr>\n",
              "      <th>1994-01-11</th>\n",
              "      <td>474.13</td>\n",
              "      <td>2228.10</td>\n",
              "      <td>18485.25</td>\n",
              "    </tr>\n",
              "    <tr>\n",
              "      <th>1994-01-12</th>\n",
              "      <td>474.17</td>\n",
              "      <td>2182.06</td>\n",
              "      <td>18793.88</td>\n",
              "    </tr>\n",
              "    <tr>\n",
              "      <th>1994-01-13</th>\n",
              "      <td>472.47</td>\n",
              "      <td>2142.37</td>\n",
              "      <td>18577.26</td>\n",
              "    </tr>\n",
              "  </tbody>\n",
              "</table>\n",
              "</div>"
            ],
            "text/plain": [
              "               spx      dax    nikkei\n",
              "date                                 \n",
              "1994-01-07  469.90  2224.95  18124.01\n",
              "1994-01-10  475.27  2225.00  18443.44\n",
              "1994-01-11  474.13  2228.10  18485.25\n",
              "1994-01-12  474.17  2182.06  18793.88\n",
              "1994-01-13  472.47  2142.37  18577.26"
            ]
          },
          "metadata": {
            "tags": []
          },
          "execution_count": 49
        }
      ]
    },
    {
      "cell_type": "code",
      "metadata": {
        "id": "OW3-2B4YGunx",
        "colab": {
          "base_uri": "https://localhost:8080/",
          "height": 388
        },
        "outputId": "f22af43f-88d1-4eff-e30a-e140eb5028b1"
      },
      "source": [
        "modelo_ARIMAX_1_1_1 = ARIMA(df.market_value, exog = dfexog, order=(1,1,1))\n",
        "resultados_modelo_ARIMAX_1_1_1 = modelo_ARIMAX_1_1_1.fit()\n",
        "resultados_modelo_ARIMAX_1_1_1.summary()"
      ],
      "execution_count": 50,
      "outputs": [
        {
          "output_type": "execute_result",
          "data": {
            "text/html": [
              "<table class=\"simpletable\">\n",
              "<caption>ARIMA Model Results</caption>\n",
              "<tr>\n",
              "  <th>Dep. Variable:</th>  <td>D.market_value</td>  <th>  No. Observations:  </th>    <td>5020</td>   \n",
              "</tr>\n",
              "<tr>\n",
              "  <th>Model:</th>          <td>ARIMA(1, 1, 1)</td>  <th>  Log Likelihood     </th> <td>-27602.578</td>\n",
              "</tr>\n",
              "<tr>\n",
              "  <th>Method:</th>             <td>css-mle</td>     <th>  S.D. of innovations</th>   <td>59.121</td>  \n",
              "</tr>\n",
              "<tr>\n",
              "  <th>Date:</th>          <td>Fri, 23 Apr 2021</td> <th>  AIC                </th>  <td>55219.156</td>\n",
              "</tr>\n",
              "<tr>\n",
              "  <th>Time:</th>              <td>13:56:30</td>     <th>  BIC                </th>  <td>55264.804</td>\n",
              "</tr>\n",
              "<tr>\n",
              "  <th>Sample:</th>           <td>01-10-1994</td>    <th>  HQIC               </th>  <td>55235.152</td>\n",
              "</tr>\n",
              "<tr>\n",
              "  <th></th>                 <td>- 04-05-2013</td>   <th>                     </th>      <td> </td>    \n",
              "</tr>\n",
              "</table>\n",
              "<table class=\"simpletable\">\n",
              "<tr>\n",
              "            <td></td>              <th>coef</th>     <th>std err</th>      <th>z</th>      <th>P>|z|</th>  <th>[0.025</th>    <th>0.975]</th>  \n",
              "</tr>\n",
              "<tr>\n",
              "  <th>const</th>                <td>   -4.7477</td> <td>    4.327</td> <td>   -1.097</td> <td> 0.273</td> <td>  -13.228</td> <td>    3.733</td>\n",
              "</tr>\n",
              "<tr>\n",
              "  <th>spx</th>                  <td>    0.0097</td> <td>    0.006</td> <td>    1.631</td> <td> 0.103</td> <td>   -0.002</td> <td>    0.021</td>\n",
              "</tr>\n",
              "<tr>\n",
              "  <th>dax</th>                  <td>   -0.0014</td> <td>    0.001</td> <td>   -1.418</td> <td> 0.156</td> <td>   -0.003</td> <td>    0.001</td>\n",
              "</tr>\n",
              "<tr>\n",
              "  <th>nikkei</th>               <td>    0.0001</td> <td>    0.000</td> <td>    0.721</td> <td> 0.471</td> <td>   -0.000</td> <td>    0.000</td>\n",
              "</tr>\n",
              "<tr>\n",
              "  <th>ar.L1.D.market_value</th> <td>    0.7483</td> <td>    0.071</td> <td>   10.599</td> <td> 0.000</td> <td>    0.610</td> <td>    0.887</td>\n",
              "</tr>\n",
              "<tr>\n",
              "  <th>ma.L1.D.market_value</th> <td>   -0.7949</td> <td>    0.065</td> <td>  -12.322</td> <td> 0.000</td> <td>   -0.921</td> <td>   -0.668</td>\n",
              "</tr>\n",
              "</table>\n",
              "<table class=\"simpletable\">\n",
              "<caption>Roots</caption>\n",
              "<tr>\n",
              "    <td></td>   <th>            Real</th>  <th>         Imaginary</th> <th>         Modulus</th>  <th>        Frequency</th>\n",
              "</tr>\n",
              "<tr>\n",
              "  <th>AR.1</th> <td>           1.3363</td> <td>          +0.0000j</td> <td>           1.3363</td> <td>           0.0000</td>\n",
              "</tr>\n",
              "<tr>\n",
              "  <th>MA.1</th> <td>           1.2580</td> <td>          +0.0000j</td> <td>           1.2580</td> <td>           0.0000</td>\n",
              "</tr>\n",
              "</table>"
            ],
            "text/plain": [
              "<class 'statsmodels.iolib.summary.Summary'>\n",
              "\"\"\"\n",
              "                             ARIMA Model Results                              \n",
              "==============================================================================\n",
              "Dep. Variable:         D.market_value   No. Observations:                 5020\n",
              "Model:                 ARIMA(1, 1, 1)   Log Likelihood              -27602.578\n",
              "Method:                       css-mle   S.D. of innovations             59.121\n",
              "Date:                Fri, 23 Apr 2021   AIC                          55219.156\n",
              "Time:                        13:56:30   BIC                          55264.804\n",
              "Sample:                    01-10-1994   HQIC                         55235.152\n",
              "                         - 04-05-2013                                         \n",
              "========================================================================================\n",
              "                           coef    std err          z      P>|z|      [0.025      0.975]\n",
              "----------------------------------------------------------------------------------------\n",
              "const                   -4.7477      4.327     -1.097      0.273     -13.228       3.733\n",
              "spx                      0.0097      0.006      1.631      0.103      -0.002       0.021\n",
              "dax                     -0.0014      0.001     -1.418      0.156      -0.003       0.001\n",
              "nikkei                   0.0001      0.000      0.721      0.471      -0.000       0.000\n",
              "ar.L1.D.market_value     0.7483      0.071     10.599      0.000       0.610       0.887\n",
              "ma.L1.D.market_value    -0.7949      0.065    -12.322      0.000      -0.921      -0.668\n",
              "                                    Roots                                    \n",
              "=============================================================================\n",
              "                  Real          Imaginary           Modulus         Frequency\n",
              "-----------------------------------------------------------------------------\n",
              "AR.1            1.3363           +0.0000j            1.3363            0.0000\n",
              "MA.1            1.2580           +0.0000j            1.2580            0.0000\n",
              "-----------------------------------------------------------------------------\n",
              "\"\"\""
            ]
          },
          "metadata": {
            "tags": []
          },
          "execution_count": 50
        }
      ]
    },
    {
      "cell_type": "code",
      "metadata": {
        "id": "LasCb6LEAkPa",
        "outputId": "b48099aa-c8ee-444d-ac9a-07e8cbfed4a9",
        "colab": {
          "base_uri": "https://localhost:8080/"
        }
      },
      "source": [
        "print(\"ARIMAX(1,1,1) spx:  \\t\\t\\t LL = \", results_ar_1_i_1_ma_1_Xspx.llf, \"\\t AIC = \", results_ar_1_i_1_ma_1_Xspx.aic)\n",
        "print(\"ARIMAX(1,1,1) spx - dax - nikkei:  \\t LL = \", resultados_modelo_ARIMAX_1_1_1.llf, \"\\t AIC = \", resultados_modelo_ARIMAX_1_1_1.aic)"
      ],
      "execution_count": 52,
      "outputs": [
        {
          "output_type": "stream",
          "text": [
            "ARIMAX(1,1,1) spx:  \t\t\t LL =  -27603.55618017348 \t AIC =  55217.11236034696\n",
            "ARIMAX(1,1,1) spx - dax - nikkei:  \t LL =  -27602.578070759282 \t AIC =  55219.156141518564\n"
          ],
          "name": "stdout"
        }
      ]
    }
  ]
}