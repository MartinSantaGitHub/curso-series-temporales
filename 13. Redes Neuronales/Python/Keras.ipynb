{
  "nbformat": 4,
  "nbformat_minor": 0,
  "metadata": {
    "kernelspec": {
      "display_name": "Python 3",
      "language": "python",
      "name": "python3"
    },
    "language_info": {
      "codemirror_mode": {
        "name": "ipython",
        "version": 3
      },
      "file_extension": ".py",
      "mimetype": "text/x-python",
      "name": "python",
      "nbconvert_exporter": "python",
      "pygments_lexer": "ipython3",
      "version": "3.6.7"
    },
    "colab": {
      "name": "Keras.ipynb",
      "provenance": [],
      "include_colab_link": true
    }
  },
  "cells": [
    {
      "cell_type": "markdown",
      "metadata": {
        "id": "view-in-github",
        "colab_type": "text"
      },
      "source": [
        "<a href=\"https://colab.research.google.com/github/MartinSantaGitHub/curso-series-temporales/blob/master/13.%20Redes%20Neuronales/Python/Keras.ipynb\" target=\"_parent\"><img src=\"https://colab.research.google.com/assets/colab-badge.svg\" alt=\"Open In Colab\"/></a>"
      ]
    },
    {
      "cell_type": "markdown",
      "metadata": {
        "id": "HRT4LwDK3bu1"
      },
      "source": [
        "# Keras "
      ]
    },
    {
      "cell_type": "code",
      "metadata": {
        "id": "n43096g33bu1"
      },
      "source": [
        "# Importando librarías\n",
        "import keras\n",
        "import matplotlib.pyplot as plt\n",
        "import pandas as pd\n",
        "import numpy as np"
      ],
      "execution_count": 46,
      "outputs": []
    },
    {
      "cell_type": "markdown",
      "metadata": {
        "id": "B9wstEKj3bu5"
      },
      "source": [
        "## Regresión lineal y=mx+b+ruido"
      ]
    },
    {
      "cell_type": "code",
      "metadata": {
        "id": "poGsQuv_3bu5"
      },
      "source": [
        "m = 2\n",
        "b = 3\n",
        "x = np.linspace(0,50,100)\n",
        "\n",
        "# vamos a fijar una semilla en 101, un valor aleatorio para asegurarnos de que obtengas los mismos resultados que yo!\n",
        "np.random.seed(101) \n",
        "ruido = np.random.normal(loc=0.0,scale=4.0,size=len(x))"
      ],
      "execution_count": 47,
      "outputs": []
    },
    {
      "cell_type": "code",
      "metadata": {
        "id": "MuMla58t3bu8"
      },
      "source": [
        "y = m*x + b + ruido"
      ],
      "execution_count": 48,
      "outputs": []
    },
    {
      "cell_type": "code",
      "metadata": {
        "id": "toVNklzd3bu-",
        "colab": {
          "base_uri": "https://localhost:8080/",
          "height": 265
        },
        "outputId": "b68da47c-8ecb-4f74-d94d-c1eba3a52cbc"
      },
      "source": [
        "plt.plot(x,y,'*');"
      ],
      "execution_count": 49,
      "outputs": [
        {
          "output_type": "display_data",
          "data": {
            "image/png": "[encoded data removed]",
            "text/plain": [
              "<Figure size 432x288 with 1 Axes>"
            ]
          },
          "metadata": {
            "tags": [],
            "needs_background": "light"
          }
        }
      ]
    },
    {
      "cell_type": "markdown",
      "metadata": {
        "id": "kPvzkgi93bvC"
      },
      "source": [
        "## Creando una Red Neuronal para una Regresión"
      ]
    },
    {
      "cell_type": "code",
      "metadata": {
        "id": "l4qsI7Uu3bvD"
      },
      "source": [
        "from keras.models import Sequential\n",
        "from keras.layers import Dense"
      ],
      "execution_count": 50,
      "outputs": []
    },
    {
      "cell_type": "code",
      "metadata": {
        "id": "QtvnVIMx3bvF"
      },
      "source": [
        "model = Sequential()\n",
        "# 4 Neuronas, esperamos solo 1 input \n",
        "model.add(Dense(4, input_dim=1, activation='relu'))\n",
        "# 4 Neuronas\n",
        "model.add(Dense(4, activation='relu'))\n",
        "# Solo 1 neurona porque solo tenemos 1 output que es Y\n",
        "model.add(Dense(1, activation='linear'))\n",
        "# Compilamos todas las capas\n",
        "model.compile(loss='mse', optimizer='adam')"
      ],
      "execution_count": 51,
      "outputs": []
    },
    {
      "cell_type": "code",
      "metadata": {
        "id": "esLa-nsq3bvI",
        "colab": {
          "base_uri": "https://localhost:8080/"
        },
        "outputId": "139a2981-b9f5-4b1a-ea68-ab9e40420bd2"
      },
      "source": [
        "model.summary()"
      ],
      "execution_count": 52,
      "outputs": [
        {
          "output_type": "stream",
          "text": [
            "Model: \"sequential_3\"\n",
            "_________________________________________________________________\n",
            "Layer (type)                 Output Shape              Param #   \n",
            "=================================================================\n",
            "dense_9 (Dense)              (None, 4)                 8         \n",
            "_________________________________________________________________\n",
            "dense_10 (Dense)             (None, 4)                 20        \n",
            "_________________________________________________________________\n",
            "dense_11 (Dense)             (None, 1)                 5         \n",
            "=================================================================\n",
            "Total params: 33\n",
            "Trainable params: 33\n",
            "Non-trainable params: 0\n",
            "_________________________________________________________________\n"
          ],
          "name": "stdout"
        }
      ]
    },
    {
      "cell_type": "markdown",
      "metadata": {
        "id": "dqIddxcm3bvK"
      },
      "source": [
        "## Entrenamiento de la red\n",
        "\n",
        "** NOTA: EN ESTE EJEMPLO VAMOS A SALTARNOS EL PASO DE DIVIDIR LOS DATOS EN ENTRENAMIENTO Y PRUEBA!!!! **"
      ]
    },
    {
      "cell_type": "code",
      "metadata": {
        "id": "PgBp7fg-3bvL",
        "colab": {
          "base_uri": "https://localhost:8080/"
        },
        "outputId": "624ee439-e4e0-4812-eaf4-c8998bc1d282"
      },
      "source": [
        "model.fit(x, y, epochs=200, verbose=1)"
      ],
      "execution_count": 53,
      "outputs": [
        {
          "output_type": "stream",
          "text": [
            "Epoch 1/200\n",
            "4/4 [==============================] - 0s 3ms/step - loss: 3779.9792\n",
            "Epoch 2/200\n",
            "4/4 [==============================] - 0s 3ms/step - loss: 3454.5896\n",
            "Epoch 3/200\n",
            "4/4 [==============================] - 0s 3ms/step - loss: 3595.6785\n",
            "Epoch 4/200\n",
            "4/4 [==============================] - 0s 4ms/step - loss: 3734.1305\n",
            "Epoch 5/200\n",
            "4/4 [==============================] - 0s 3ms/step - loss: 3693.2687\n",
            "Epoch 6/200\n",
            "4/4 [==============================] - 0s 3ms/step - loss: 3677.9462\n",
            "Epoch 7/200\n",
            "4/4 [==============================] - 0s 4ms/step - loss: 3750.5069\n",
            "Epoch 8/200\n",
            "4/4 [==============================] - 0s 4ms/step - loss: 3717.2221\n",
            "Epoch 9/200\n",
            "4/4 [==============================] - 0s 4ms/step - loss: 3614.2581\n",
            "Epoch 10/200\n",
            "4/4 [==============================] - 0s 3ms/step - loss: 3733.8000\n",
            "Epoch 11/200\n",
            "4/4 [==============================] - 0s 3ms/step - loss: 3592.9030\n",
            "Epoch 12/200\n",
            "4/4 [==============================] - 0s 5ms/step - loss: 3641.0649\n",
            "Epoch 13/200\n",
            "4/4 [==============================] - 0s 7ms/step - loss: 3600.7182\n",
            "Epoch 14/200\n",
            "4/4 [==============================] - 0s 6ms/step - loss: 3576.9583\n",
            "Epoch 15/200\n",
            "4/4 [==============================] - 0s 4ms/step - loss: 3415.2485\n",
            "Epoch 16/200\n",
            "4/4 [==============================] - 0s 4ms/step - loss: 3494.7166\n",
            "Epoch 17/200\n",
            "4/4 [==============================] - 0s 3ms/step - loss: 3797.0132\n",
            "Epoch 18/200\n",
            "4/4 [==============================] - 0s 5ms/step - loss: 3466.2356\n",
            "Epoch 19/200\n",
            "4/4 [==============================] - 0s 4ms/step - loss: 3680.5924\n",
            "Epoch 20/200\n",
            "4/4 [==============================] - 0s 4ms/step - loss: 3769.6621\n",
            "Epoch 21/200\n",
            "4/4 [==============================] - 0s 5ms/step - loss: 3382.1333\n",
            "Epoch 22/200\n",
            "4/4 [==============================] - 0s 4ms/step - loss: 3392.2694\n",
            "Epoch 23/200\n",
            "4/4 [==============================] - 0s 5ms/step - loss: 3520.5706\n",
            "Epoch 24/200\n",
            "4/4 [==============================] - 0s 4ms/step - loss: 3266.2956\n",
            "Epoch 25/200\n",
            "4/4 [==============================] - 0s 4ms/step - loss: 3343.0232\n",
            "Epoch 26/200\n",
            "4/4 [==============================] - 0s 5ms/step - loss: 3288.9840\n",
            "Epoch 27/200\n",
            "4/4 [==============================] - 0s 4ms/step - loss: 3423.9758\n",
            "Epoch 28/200\n",
            "4/4 [==============================] - 0s 4ms/step - loss: 3183.7061\n",
            "Epoch 29/200\n",
            "4/4 [==============================] - 0s 5ms/step - loss: 3156.0437\n",
            "Epoch 30/200\n",
            "4/4 [==============================] - 0s 5ms/step - loss: 3472.3980\n",
            "Epoch 31/200\n",
            "4/4 [==============================] - 0s 6ms/step - loss: 3372.1361\n",
            "Epoch 32/200\n",
            "4/4 [==============================] - 0s 5ms/step - loss: 3247.5019\n",
            "Epoch 33/200\n",
            "4/4 [==============================] - 0s 4ms/step - loss: 3283.9575\n",
            "Epoch 34/200\n",
            "4/4 [==============================] - 0s 5ms/step - loss: 3237.3943\n",
            "Epoch 35/200\n",
            "4/4 [==============================] - 0s 4ms/step - loss: 3354.8244\n",
            "Epoch 36/200\n",
            "4/4 [==============================] - 0s 3ms/step - loss: 3210.2881\n",
            "Epoch 37/200\n",
            "4/4 [==============================] - 0s 6ms/step - loss: 3260.9498\n",
            "Epoch 38/200\n",
            "4/4 [==============================] - 0s 5ms/step - loss: 3205.1015\n",
            "Epoch 39/200\n",
            "4/4 [==============================] - 0s 6ms/step - loss: 3048.8706\n",
            "Epoch 40/200\n",
            "4/4 [==============================] - 0s 3ms/step - loss: 3013.7641\n",
            "Epoch 41/200\n",
            "4/4 [==============================] - 0s 3ms/step - loss: 3138.7573\n",
            "Epoch 42/200\n",
            "4/4 [==============================] - 0s 4ms/step - loss: 2868.6033\n",
            "Epoch 43/200\n",
            "4/4 [==============================] - 0s 3ms/step - loss: 3137.9278\n",
            "Epoch 44/200\n",
            "4/4 [==============================] - 0s 4ms/step - loss: 3058.1340\n",
            "Epoch 45/200\n",
            "4/4 [==============================] - 0s 5ms/step - loss: 2964.5203\n",
            "Epoch 46/200\n",
            "4/4 [==============================] - 0s 5ms/step - loss: 3012.4119\n",
            "Epoch 47/200\n",
            "4/4 [==============================] - 0s 5ms/step - loss: 2925.1863\n",
            "Epoch 48/200\n",
            "4/4 [==============================] - 0s 5ms/step - loss: 3056.4412\n",
            "Epoch 49/200\n",
            "4/4 [==============================] - 0s 5ms/step - loss: 3009.0461\n",
            "Epoch 50/200\n",
            "4/4 [==============================] - 0s 5ms/step - loss: 3038.1916\n",
            "Epoch 51/200\n",
            "4/4 [==============================] - 0s 5ms/step - loss: 2728.4501\n",
            "Epoch 52/200\n",
            "4/4 [==============================] - 0s 5ms/step - loss: 2934.4197\n",
            "Epoch 53/200\n",
            "4/4 [==============================] - 0s 4ms/step - loss: 2905.0986\n",
            "Epoch 54/200\n",
            "4/4 [==============================] - 0s 5ms/step - loss: 2992.0518\n",
            "Epoch 55/200\n",
            "4/4 [==============================] - 0s 5ms/step - loss: 2733.8303\n",
            "Epoch 56/200\n",
            "4/4 [==============================] - 0s 6ms/step - loss: 2750.6130\n",
            "Epoch 57/200\n",
            "4/4 [==============================] - 0s 6ms/step - loss: 2777.8790\n",
            "Epoch 58/200\n",
            "4/4 [==============================] - 0s 6ms/step - loss: 2554.8716\n",
            "Epoch 59/200\n",
            "4/4 [==============================] - 0s 4ms/step - loss: 2622.9997\n",
            "Epoch 60/200\n",
            "4/4 [==============================] - 0s 5ms/step - loss: 2659.7324\n",
            "Epoch 61/200\n",
            "4/4 [==============================] - 0s 7ms/step - loss: 2356.4116\n",
            "Epoch 62/200\n",
            "4/4 [==============================] - 0s 5ms/step - loss: 2543.2143\n",
            "Epoch 63/200\n",
            "4/4 [==============================] - 0s 3ms/step - loss: 2370.6726\n",
            "Epoch 64/200\n",
            "4/4 [==============================] - 0s 4ms/step - loss: 2367.0254\n",
            "Epoch 65/200\n",
            "4/4 [==============================] - 0s 4ms/step - loss: 2501.1067\n",
            "Epoch 66/200\n",
            "4/4 [==============================] - 0s 4ms/step - loss: 2464.7402\n",
            "Epoch 67/200\n",
            "4/4 [==============================] - 0s 3ms/step - loss: 2283.2269\n",
            "Epoch 68/200\n",
            "4/4 [==============================] - 0s 4ms/step - loss: 2217.5593\n",
            "Epoch 69/200\n",
            "4/4 [==============================] - 0s 3ms/step - loss: 2303.4054\n",
            "Epoch 70/200\n",
            "4/4 [==============================] - 0s 10ms/step - loss: 2235.4915\n",
            "Epoch 71/200\n",
            "4/4 [==============================] - 0s 6ms/step - loss: 2168.8131\n",
            "Epoch 72/200\n",
            "4/4 [==============================] - 0s 7ms/step - loss: 2181.0932\n",
            "Epoch 73/200\n",
            "4/4 [==============================] - 0s 5ms/step - loss: 2285.3831\n",
            "Epoch 74/200\n",
            "4/4 [==============================] - 0s 3ms/step - loss: 2007.7621\n",
            "Epoch 75/200\n",
            "4/4 [==============================] - 0s 4ms/step - loss: 2054.5893\n",
            "Epoch 76/200\n",
            "4/4 [==============================] - 0s 4ms/step - loss: 2068.8918\n",
            "Epoch 77/200\n",
            "4/4 [==============================] - 0s 6ms/step - loss: 1973.9544\n",
            "Epoch 78/200\n",
            "4/4 [==============================] - 0s 5ms/step - loss: 2069.5365\n",
            "Epoch 79/200\n",
            "4/4 [==============================] - 0s 4ms/step - loss: 1971.7356\n",
            "Epoch 80/200\n",
            "4/4 [==============================] - 0s 5ms/step - loss: 1993.2529\n",
            "Epoch 81/200\n",
            "4/4 [==============================] - 0s 4ms/step - loss: 1849.8923\n",
            "Epoch 82/200\n",
            "4/4 [==============================] - 0s 7ms/step - loss: 1921.2994\n",
            "Epoch 83/200\n",
            "4/4 [==============================] - 0s 5ms/step - loss: 1826.2450\n",
            "Epoch 84/200\n",
            "4/4 [==============================] - 0s 4ms/step - loss: 1879.1322\n",
            "Epoch 85/200\n",
            "4/4 [==============================] - 0s 6ms/step - loss: 1813.7589\n",
            "Epoch 86/200\n",
            "4/4 [==============================] - 0s 4ms/step - loss: 1713.1126\n",
            "Epoch 87/200\n",
            "4/4 [==============================] - 0s 3ms/step - loss: 1653.6710\n",
            "Epoch 88/200\n",
            "4/4 [==============================] - 0s 4ms/step - loss: 1719.1268\n",
            "Epoch 89/200\n",
            "4/4 [==============================] - 0s 4ms/step - loss: 1660.0754\n",
            "Epoch 90/200\n",
            "4/4 [==============================] - 0s 4ms/step - loss: 1673.7966\n",
            "Epoch 91/200\n",
            "4/4 [==============================] - 0s 4ms/step - loss: 1546.5341\n",
            "Epoch 92/200\n",
            "4/4 [==============================] - 0s 3ms/step - loss: 1491.0050\n",
            "Epoch 93/200\n",
            "4/4 [==============================] - 0s 4ms/step - loss: 1486.3594\n",
            "Epoch 94/200\n",
            "4/4 [==============================] - 0s 4ms/step - loss: 1534.5568\n",
            "Epoch 95/200\n",
            "4/4 [==============================] - 0s 7ms/step - loss: 1483.9521\n",
            "Epoch 96/200\n",
            "4/4 [==============================] - 0s 5ms/step - loss: 1387.0712\n",
            "Epoch 97/200\n",
            "4/4 [==============================] - 0s 5ms/step - loss: 1363.7241\n",
            "Epoch 98/200\n",
            "4/4 [==============================] - 0s 5ms/step - loss: 1370.8733\n",
            "Epoch 99/200\n",
            "4/4 [==============================] - 0s 9ms/step - loss: 1249.1405\n",
            "Epoch 100/200\n",
            "4/4 [==============================] - 0s 5ms/step - loss: 1327.1040\n",
            "Epoch 101/200\n",
            "4/4 [==============================] - 0s 4ms/step - loss: 1231.1780\n",
            "Epoch 102/200\n",
            "4/4 [==============================] - 0s 4ms/step - loss: 1248.2164\n",
            "Epoch 103/200\n",
            "4/4 [==============================] - 0s 4ms/step - loss: 1196.6032\n",
            "Epoch 104/200\n",
            "4/4 [==============================] - 0s 5ms/step - loss: 1100.4979\n",
            "Epoch 105/200\n",
            "4/4 [==============================] - 0s 4ms/step - loss: 1088.6095\n",
            "Epoch 106/200\n",
            "4/4 [==============================] - 0s 5ms/step - loss: 995.8635\n",
            "Epoch 107/200\n",
            "4/4 [==============================] - 0s 6ms/step - loss: 1029.7798\n",
            "Epoch 108/200\n",
            "4/4 [==============================] - 0s 4ms/step - loss: 995.8333\n",
            "Epoch 109/200\n",
            "4/4 [==============================] - 0s 5ms/step - loss: 990.9380\n",
            "Epoch 110/200\n",
            "4/4 [==============================] - 0s 3ms/step - loss: 958.8104\n",
            "Epoch 111/200\n",
            "4/4 [==============================] - 0s 4ms/step - loss: 888.3448\n",
            "Epoch 112/200\n",
            "4/4 [==============================] - 0s 6ms/step - loss: 859.3217\n",
            "Epoch 113/200\n",
            "4/4 [==============================] - 0s 4ms/step - loss: 872.3308\n",
            "Epoch 114/200\n",
            "4/4 [==============================] - 0s 5ms/step - loss: 847.9702\n",
            "Epoch 115/200\n",
            "4/4 [==============================] - 0s 4ms/step - loss: 826.1239\n",
            "Epoch 116/200\n",
            "4/4 [==============================] - 0s 4ms/step - loss: 834.8219\n",
            "Epoch 117/200\n",
            "4/4 [==============================] - 0s 6ms/step - loss: 763.8707\n",
            "Epoch 118/200\n",
            "4/4 [==============================] - 0s 7ms/step - loss: 707.3635\n",
            "Epoch 119/200\n",
            "4/4 [==============================] - 0s 5ms/step - loss: 730.7373\n",
            "Epoch 120/200\n",
            "4/4 [==============================] - 0s 5ms/step - loss: 648.0044\n",
            "Epoch 121/200\n",
            "4/4 [==============================] - 0s 4ms/step - loss: 671.2806\n",
            "Epoch 122/200\n",
            "4/4 [==============================] - 0s 5ms/step - loss: 639.2036\n",
            "Epoch 123/200\n",
            "4/4 [==============================] - 0s 5ms/step - loss: 616.2379\n",
            "Epoch 124/200\n",
            "4/4 [==============================] - 0s 5ms/step - loss: 586.3061\n",
            "Epoch 125/200\n",
            "4/4 [==============================] - 0s 5ms/step - loss: 538.4788\n",
            "Epoch 126/200\n",
            "4/4 [==============================] - 0s 6ms/step - loss: 552.8612\n",
            "Epoch 127/200\n",
            "4/4 [==============================] - 0s 5ms/step - loss: 501.3853\n",
            "Epoch 128/200\n",
            "4/4 [==============================] - 0s 7ms/step - loss: 469.5264\n",
            "Epoch 129/200\n",
            "4/4 [==============================] - 0s 4ms/step - loss: 484.5139\n",
            "Epoch 130/200\n",
            "4/4 [==============================] - 0s 5ms/step - loss: 440.6009\n",
            "Epoch 131/200\n",
            "4/4 [==============================] - 0s 5ms/step - loss: 440.3050\n",
            "Epoch 132/200\n",
            "4/4 [==============================] - 0s 5ms/step - loss: 425.7758\n",
            "Epoch 133/200\n",
            "4/4 [==============================] - 0s 3ms/step - loss: 400.3688\n",
            "Epoch 134/200\n",
            "4/4 [==============================] - 0s 6ms/step - loss: 397.2639\n",
            "Epoch 135/200\n",
            "4/4 [==============================] - 0s 5ms/step - loss: 366.5285\n",
            "Epoch 136/200\n",
            "4/4 [==============================] - 0s 5ms/step - loss: 361.8210\n",
            "Epoch 137/200\n",
            "4/4 [==============================] - 0s 6ms/step - loss: 331.9062\n",
            "Epoch 138/200\n",
            "4/4 [==============================] - 0s 6ms/step - loss: 319.2196\n",
            "Epoch 139/200\n",
            "4/4 [==============================] - 0s 3ms/step - loss: 309.0641\n",
            "Epoch 140/200\n",
            "4/4 [==============================] - 0s 4ms/step - loss: 296.1270\n",
            "Epoch 141/200\n",
            "4/4 [==============================] - 0s 7ms/step - loss: 272.3396\n",
            "Epoch 142/200\n",
            "4/4 [==============================] - 0s 4ms/step - loss: 250.9786\n",
            "Epoch 143/200\n",
            "4/4 [==============================] - 0s 3ms/step - loss: 227.7835\n",
            "Epoch 144/200\n",
            "4/4 [==============================] - 0s 4ms/step - loss: 239.3758\n",
            "Epoch 145/200\n",
            "4/4 [==============================] - 0s 5ms/step - loss: 218.9921\n",
            "Epoch 146/200\n",
            "4/4 [==============================] - 0s 4ms/step - loss: 205.7579\n",
            "Epoch 147/200\n",
            "4/4 [==============================] - 0s 5ms/step - loss: 200.9915\n",
            "Epoch 148/200\n",
            "4/4 [==============================] - 0s 5ms/step - loss: 194.9227\n",
            "Epoch 149/200\n",
            "4/4 [==============================] - 0s 5ms/step - loss: 184.8831\n",
            "Epoch 150/200\n",
            "4/4 [==============================] - 0s 4ms/step - loss: 187.9522\n",
            "Epoch 151/200\n",
            "4/4 [==============================] - 0s 5ms/step - loss: 155.7732\n",
            "Epoch 152/200\n",
            "4/4 [==============================] - 0s 5ms/step - loss: 150.9674\n",
            "Epoch 153/200\n",
            "4/4 [==============================] - 0s 4ms/step - loss: 149.4689\n",
            "Epoch 154/200\n",
            "4/4 [==============================] - 0s 6ms/step - loss: 132.5243\n",
            "Epoch 155/200\n",
            "4/4 [==============================] - 0s 4ms/step - loss: 130.5148\n",
            "Epoch 156/200\n",
            "4/4 [==============================] - 0s 6ms/step - loss: 124.3827\n",
            "Epoch 157/200\n",
            "4/4 [==============================] - 0s 5ms/step - loss: 119.7071\n",
            "Epoch 158/200\n",
            "4/4 [==============================] - 0s 6ms/step - loss: 119.2713\n",
            "Epoch 159/200\n",
            "4/4 [==============================] - 0s 6ms/step - loss: 108.5997\n",
            "Epoch 160/200\n",
            "4/4 [==============================] - 0s 5ms/step - loss: 100.6118\n",
            "Epoch 161/200\n",
            "4/4 [==============================] - 0s 6ms/step - loss: 96.2281\n",
            "Epoch 162/200\n",
            "4/4 [==============================] - 0s 5ms/step - loss: 92.0689\n",
            "Epoch 163/200\n",
            "4/4 [==============================] - 0s 4ms/step - loss: 97.8736\n",
            "Epoch 164/200\n",
            "4/4 [==============================] - 0s 4ms/step - loss: 90.2640\n",
            "Epoch 165/200\n",
            "4/4 [==============================] - 0s 5ms/step - loss: 83.1745\n",
            "Epoch 166/200\n",
            "4/4 [==============================] - 0s 4ms/step - loss: 80.9377\n",
            "Epoch 167/200\n",
            "4/4 [==============================] - 0s 4ms/step - loss: 72.8228\n",
            "Epoch 168/200\n",
            "4/4 [==============================] - 0s 5ms/step - loss: 70.5158\n",
            "Epoch 169/200\n",
            "4/4 [==============================] - 0s 4ms/step - loss: 65.0786\n",
            "Epoch 170/200\n",
            "4/4 [==============================] - 0s 4ms/step - loss: 58.1117\n",
            "Epoch 171/200\n",
            "4/4 [==============================] - 0s 4ms/step - loss: 55.8450\n",
            "Epoch 172/200\n",
            "4/4 [==============================] - 0s 4ms/step - loss: 54.6440\n",
            "Epoch 173/200\n",
            "4/4 [==============================] - 0s 4ms/step - loss: 50.5569\n",
            "Epoch 174/200\n",
            "4/4 [==============================] - 0s 5ms/step - loss: 51.8005\n",
            "Epoch 175/200\n",
            "4/4 [==============================] - 0s 4ms/step - loss: 46.2086\n",
            "Epoch 176/200\n",
            "4/4 [==============================] - 0s 6ms/step - loss: 46.4182\n",
            "Epoch 177/200\n",
            "4/4 [==============================] - 0s 5ms/step - loss: 43.2803\n",
            "Epoch 178/200\n",
            "4/4 [==============================] - 0s 5ms/step - loss: 42.4927\n",
            "Epoch 179/200\n",
            "4/4 [==============================] - 0s 6ms/step - loss: 41.8472\n",
            "Epoch 180/200\n",
            "4/4 [==============================] - 0s 5ms/step - loss: 37.4696\n",
            "Epoch 181/200\n",
            "4/4 [==============================] - 0s 6ms/step - loss: 35.5568\n",
            "Epoch 182/200\n",
            "4/4 [==============================] - 0s 4ms/step - loss: 36.5800\n",
            "Epoch 183/200\n",
            "4/4 [==============================] - 0s 5ms/step - loss: 35.5856\n",
            "Epoch 184/200\n",
            "4/4 [==============================] - 0s 5ms/step - loss: 32.6468\n",
            "Epoch 185/200\n",
            "4/4 [==============================] - 0s 4ms/step - loss: 34.3126\n",
            "Epoch 186/200\n",
            "4/4 [==============================] - 0s 6ms/step - loss: 29.2663\n",
            "Epoch 187/200\n",
            "4/4 [==============================] - 0s 5ms/step - loss: 30.4612\n",
            "Epoch 188/200\n",
            "4/4 [==============================] - 0s 6ms/step - loss: 28.8479\n",
            "Epoch 189/200\n",
            "4/4 [==============================] - 0s 6ms/step - loss: 29.3123\n",
            "Epoch 190/200\n",
            "4/4 [==============================] - 0s 6ms/step - loss: 25.8438\n",
            "Epoch 191/200\n",
            "4/4 [==============================] - 0s 5ms/step - loss: 24.9907\n",
            "Epoch 192/200\n",
            "4/4 [==============================] - 0s 4ms/step - loss: 24.3288\n",
            "Epoch 193/200\n",
            "4/4 [==============================] - 0s 5ms/step - loss: 23.2121\n",
            "Epoch 194/200\n",
            "4/4 [==============================] - 0s 4ms/step - loss: 22.8716\n",
            "Epoch 195/200\n",
            "4/4 [==============================] - 0s 4ms/step - loss: 24.0661\n",
            "Epoch 196/200\n",
            "4/4 [==============================] - 0s 6ms/step - loss: 23.9224\n",
            "Epoch 197/200\n",
            "4/4 [==============================] - 0s 3ms/step - loss: 21.4519\n",
            "Epoch 198/200\n",
            "4/4 [==============================] - 0s 3ms/step - loss: 20.7958\n",
            "Epoch 199/200\n",
            "4/4 [==============================] - 0s 3ms/step - loss: 23.5355\n",
            "Epoch 200/200\n",
            "4/4 [==============================] - 0s 5ms/step - loss: 24.3151\n"
          ],
          "name": "stdout"
        },
        {
          "output_type": "execute_result",
          "data": {
            "text/plain": [
              "<tensorflow.python.keras.callbacks.History at 0x7f37114648d0>"
            ]
          },
          "metadata": {
            "tags": []
          },
          "execution_count": 53
        }
      ]
    },
    {
      "cell_type": "code",
      "metadata": {
        "id": "pDJM_h9AE_79",
        "colab": {
          "base_uri": "https://localhost:8080/",
          "height": 281
        },
        "outputId": "1908aaa3-d535-47d9-dcad-ef17921e30c9"
      },
      "source": [
        "loss=model.history.history['loss']\n",
        "epochs=range(len(loss))\n",
        "plt.plot(epochs,loss)"
      ],
      "execution_count": 54,
      "outputs": [
        {
          "output_type": "execute_result",
          "data": {
            "text/plain": [
              "[<matplotlib.lines.Line2D at 0x7f371140cd90>]"
            ]
          },
          "metadata": {
            "tags": []
          },
          "execution_count": 54
        },
        {
          "output_type": "display_data",
          "data": {
            "image/png": "[encoded data removed]",
            "text/plain": [
              "<Figure size 432x288 with 1 Axes>"
            ]
          },
          "metadata": {
            "tags": [],
            "needs_background": "light"
          }
        }
      ]
    },
    {
      "cell_type": "markdown",
      "metadata": {
        "id": "sQQ-RL8k3bvN"
      },
      "source": [
        "## Prediciendo nuevos puntos con el modelo creado\n"
      ]
    },
    {
      "cell_type": "code",
      "metadata": {
        "id": "7mKcVdwr3bvO"
      },
      "source": [
        "x_for_predictions = np.linspace(0,50,1000)"
      ],
      "execution_count": 55,
      "outputs": []
    },
    {
      "cell_type": "code",
      "metadata": {
        "id": "zilII-3l3bvQ"
      },
      "source": [
        "y_predicted = model.predict(x_for_predictions)"
      ],
      "execution_count": 56,
      "outputs": []
    },
    {
      "cell_type": "code",
      "metadata": {
        "id": "CRmYwiW93bvS",
        "colab": {
          "base_uri": "https://localhost:8080/",
          "height": 265
        },
        "outputId": "25ed6bb0-26db-4c39-86f9-f4db5fa09ac0"
      },
      "source": [
        "# X e Y originales\n",
        "plt.plot(x,y,'*')\n",
        "# Línea de predicción\n",
        "plt.plot(x_for_predictions,y_predicted,'r');"
      ],
      "execution_count": 57,
      "outputs": [
        {
          "output_type": "display_data",
          "data": {
            "image/png": "[encoded data removed]",
            "text/plain": [
              "<Figure size 432x288 with 1 Axes>"
            ]
          },
          "metadata": {
            "tags": [],
            "needs_background": "light"
          }
        }
      ]
    },
    {
      "cell_type": "markdown",
      "metadata": {
        "id": "MbnrstBa3bvU"
      },
      "source": [
        "# Evaluando el error"
      ]
    },
    {
      "cell_type": "code",
      "metadata": {
        "id": "XxIMKNaX3bvV"
      },
      "source": [
        "from sklearn.metrics import mean_squared_error,mean_absolute_error"
      ],
      "execution_count": 58,
      "outputs": []
    },
    {
      "cell_type": "code",
      "metadata": {
        "id": "BqVLux-h3bvX"
      },
      "source": [
        "# Predicciones\n",
        "prediction_for_true_y = model.predict(x)"
      ],
      "execution_count": 59,
      "outputs": []
    },
    {
      "cell_type": "code",
      "metadata": {
        "id": "TqnV8_Ho3bva",
        "colab": {
          "base_uri": "https://localhost:8080/"
        },
        "outputId": "59571584-b78e-417d-cb0f-12b81bfd144a"
      },
      "source": [
        "mean_squared_error(y,prediction_for_true_y)"
      ],
      "execution_count": 63,
      "outputs": [
        {
          "output_type": "execute_result",
          "data": {
            "text/plain": [
              "21.377735056726223"
            ]
          },
          "metadata": {
            "tags": []
          },
          "execution_count": 63
        }
      ]
    },
    {
      "cell_type": "code",
      "metadata": {
        "id": "7lAvngdpO9PE",
        "colab": {
          "base_uri": "https://localhost:8080/"
        },
        "outputId": "9a9659bf-861f-47b5-89b8-69a7f943be2a"
      },
      "source": [
        "mean_absolute_error(y,prediction_for_true_y)"
      ],
      "execution_count": 61,
      "outputs": [
        {
          "output_type": "execute_result",
          "data": {
            "text/plain": [
              "3.72609852246454"
            ]
          },
          "metadata": {
            "tags": []
          },
          "execution_count": 61
        }
      ]
    }
  ]
}