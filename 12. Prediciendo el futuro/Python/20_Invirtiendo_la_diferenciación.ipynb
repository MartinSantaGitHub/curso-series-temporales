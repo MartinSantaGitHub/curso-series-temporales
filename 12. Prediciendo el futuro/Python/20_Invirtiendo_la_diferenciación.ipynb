{
  "nbformat": 4,
  "nbformat_minor": 0,
  "metadata": {
    "colab": {
      "name": "Invirtiendo la diferenciación.ipynb",
      "provenance": [],
      "include_colab_link": true
    },
    "kernelspec": {
      "name": "python3",
      "display_name": "Python 3"
    }
  },
  "cells": [
    {
      "cell_type": "markdown",
      "metadata": {
        "id": "view-in-github",
        "colab_type": "text"
      },
      "source": [
        "<a href=\"https://colab.research.google.com/github/MartinSantaGitHub/curso-series-temporales/blob/master/12.%20Prediciendo%20el%20futuro/Python/20_Invirtiendo_la_diferenciaci%C3%B3n.ipynb\" target=\"_parent\"><img src=\"https://colab.research.google.com/assets/colab-badge.svg\" alt=\"Open In Colab\"/></a>"
      ]
    },
    {
      "cell_type": "code",
      "metadata": {
        "id": "m7TjgvFCxu5W",
        "colab": {
          "base_uri": "https://localhost:8080/",
          "height": 243
        },
        "outputId": "06af083b-ac39-49a0-9e4d-2f5bf1778d90"
      },
      "source": [
        "import pandas as pd\n",
        "filepath = 'https://raw.githubusercontent.com/selva86/datasets/master/Raotbl6.csv'\n",
        "df_comp = pd.read_csv(filepath, parse_dates=['date'], index_col='date')\n",
        "print(df_comp.shape)  # (123, 8)\n",
        "df_comp.tail()"
      ],
      "execution_count": 1,
      "outputs": [
        {
          "output_type": "stream",
          "text": [
            "(123, 8)\n"
          ],
          "name": "stdout"
        },
        {
          "output_type": "execute_result",
          "data": {
            "text/html": [
              "<div>\n",
              "<style scoped>\n",
              "    .dataframe tbody tr th:only-of-type {\n",
              "        vertical-align: middle;\n",
              "    }\n",
              "\n",
              "    .dataframe tbody tr th {\n",
              "        vertical-align: top;\n",
              "    }\n",
              "\n",
              "    .dataframe thead th {\n",
              "        text-align: right;\n",
              "    }\n",
              "</style>\n",
              "<table border=\"1\" class=\"dataframe\">\n",
              "  <thead>\n",
              "    <tr style=\"text-align: right;\">\n",
              "      <th></th>\n",
              "      <th>rgnp</th>\n",
              "      <th>pgnp</th>\n",
              "      <th>ulc</th>\n",
              "      <th>gdfco</th>\n",
              "      <th>gdf</th>\n",
              "      <th>gdfim</th>\n",
              "      <th>gdfcf</th>\n",
              "      <th>gdfce</th>\n",
              "    </tr>\n",
              "    <tr>\n",
              "      <th>date</th>\n",
              "      <th></th>\n",
              "      <th></th>\n",
              "      <th></th>\n",
              "      <th></th>\n",
              "      <th></th>\n",
              "      <th></th>\n",
              "      <th></th>\n",
              "      <th></th>\n",
              "    </tr>\n",
              "  </thead>\n",
              "  <tbody>\n",
              "    <tr>\n",
              "      <th>1988-07-01</th>\n",
              "      <td>4042.7</td>\n",
              "      <td>3971.9</td>\n",
              "      <td>179.6</td>\n",
              "      <td>131.5</td>\n",
              "      <td>124.9</td>\n",
              "      <td>106.2</td>\n",
              "      <td>123.5</td>\n",
              "      <td>92.8</td>\n",
              "    </tr>\n",
              "    <tr>\n",
              "      <th>1988-10-01</th>\n",
              "      <td>4069.4</td>\n",
              "      <td>3995.8</td>\n",
              "      <td>181.3</td>\n",
              "      <td>133.3</td>\n",
              "      <td>126.2</td>\n",
              "      <td>107.3</td>\n",
              "      <td>124.9</td>\n",
              "      <td>92.9</td>\n",
              "    </tr>\n",
              "    <tr>\n",
              "      <th>1989-01-01</th>\n",
              "      <td>4106.8</td>\n",
              "      <td>4019.9</td>\n",
              "      <td>184.1</td>\n",
              "      <td>134.8</td>\n",
              "      <td>127.7</td>\n",
              "      <td>109.5</td>\n",
              "      <td>126.6</td>\n",
              "      <td>94.0</td>\n",
              "    </tr>\n",
              "    <tr>\n",
              "      <th>1989-04-01</th>\n",
              "      <td>4132.5</td>\n",
              "      <td>4044.1</td>\n",
              "      <td>186.1</td>\n",
              "      <td>134.8</td>\n",
              "      <td>129.3</td>\n",
              "      <td>111.1</td>\n",
              "      <td>129.0</td>\n",
              "      <td>100.6</td>\n",
              "    </tr>\n",
              "    <tr>\n",
              "      <th>1989-07-01</th>\n",
              "      <td>4162.9</td>\n",
              "      <td>4068.4</td>\n",
              "      <td>187.4</td>\n",
              "      <td>137.2</td>\n",
              "      <td>130.2</td>\n",
              "      <td>109.8</td>\n",
              "      <td>129.9</td>\n",
              "      <td>98.2</td>\n",
              "    </tr>\n",
              "  </tbody>\n",
              "</table>\n",
              "</div>"
            ],
            "text/plain": [
              "              rgnp    pgnp    ulc  gdfco    gdf  gdfim  gdfcf  gdfce\n",
              "date                                                                \n",
              "1988-07-01  4042.7  3971.9  179.6  131.5  124.9  106.2  123.5   92.8\n",
              "1988-10-01  4069.4  3995.8  181.3  133.3  126.2  107.3  124.9   92.9\n",
              "1989-01-01  4106.8  4019.9  184.1  134.8  127.7  109.5  126.6   94.0\n",
              "1989-04-01  4132.5  4044.1  186.1  134.8  129.3  111.1  129.0  100.6\n",
              "1989-07-01  4162.9  4068.4  187.4  137.2  130.2  109.8  129.9   98.2"
            ]
          },
          "metadata": {
            "tags": []
          },
          "execution_count": 1
        }
      ]
    },
    {
      "cell_type": "code",
      "metadata": {
        "id": "bQLwbusdyETn",
        "colab": {
          "base_uri": "https://localhost:8080/"
        },
        "outputId": "26c7bdf8-e34f-45a3-b298-16649763935f"
      },
      "source": [
        "dat=df_comp['gdfim']\n",
        "dat.head()"
      ],
      "execution_count": 2,
      "outputs": [
        {
          "output_type": "execute_result",
          "data": {
            "text/plain": [
              "date\n",
              "1959-01-01    26.9\n",
              "1959-04-01    27.0\n",
              "1959-07-01    27.1\n",
              "1959-10-01    27.1\n",
              "1960-01-01    27.2\n",
              "Name: gdfim, dtype: float64"
            ]
          },
          "metadata": {
            "tags": []
          },
          "execution_count": 2
        }
      ]
    },
    {
      "cell_type": "code",
      "metadata": {
        "id": "ghcdP9b8ynKM",
        "colab": {
          "base_uri": "https://localhost:8080/"
        },
        "outputId": "7d23bf01-bbb9-436f-d74b-4da0f4c4ba0e"
      },
      "source": [
        "import statsmodels.tsa.stattools as sts\n",
        "result = sts.adfuller(dat)\n",
        "print('p-value: %f' % result[1])"
      ],
      "execution_count": 3,
      "outputs": [
        {
          "output_type": "stream",
          "text": [
            "p-value: 0.938674\n"
          ],
          "name": "stdout"
        }
      ]
    },
    {
      "cell_type": "code",
      "metadata": {
        "id": "Ts5ZYOuoKFkW"
      },
      "source": [
        "dat_ret = dat.pct_change(1).mul(100)"
      ],
      "execution_count": 4,
      "outputs": []
    },
    {
      "cell_type": "code",
      "metadata": {
        "colab": {
          "base_uri": "https://localhost:8080/"
        },
        "id": "-cWncIKDK2j3",
        "outputId": "e5bf970d-a113-46da-9b98-81c8c2af9a7e"
      },
      "source": [
        "dat_ret = dat_ret.dropna()\n",
        "result = sts.adfuller(dat_ret.dropna())\n",
        "print('p-value: %f' % result[1])"
      ],
      "execution_count": 20,
      "outputs": [
        {
          "output_type": "stream",
          "text": [
            "p-value: 0.001456\n"
          ],
          "name": "stdout"
        }
      ]
    },
    {
      "cell_type": "code",
      "metadata": {
        "colab": {
          "base_uri": "https://localhost:8080/"
        },
        "id": "f1VF3BqHL6dF",
        "outputId": "e574febd-5a4d-4fa8-fe29-6ab7e833f299"
      },
      "source": [
        "result"
      ],
      "execution_count": 6,
      "outputs": [
        {
          "output_type": "execute_result",
          "data": {
            "text/plain": [
              "(-3.9914091760985664,\n",
              " 0.0014561694362850198,\n",
              " 0,\n",
              " 121,\n",
              " {'1%': -3.485585145896754,\n",
              "  '10%': -2.5796759080663887,\n",
              "  '5%': -2.885738566292665},\n",
              " 363.6967673433127)"
            ]
          },
          "metadata": {
            "tags": []
          },
          "execution_count": 6
        }
      ]
    },
    {
      "cell_type": "code",
      "metadata": {
        "id": "pZ-njE4Pyzz4",
        "colab": {
          "base_uri": "https://localhost:8080/"
        },
        "outputId": "b0ad0b64-3fa2-4cef-d0b9-81b7f90dac02"
      },
      "source": [
        "dat_transformed=dat.diff().dropna()\n",
        "dat_transformed.tail()"
      ],
      "execution_count": 7,
      "outputs": [
        {
          "output_type": "execute_result",
          "data": {
            "text/plain": [
              "date\n",
              "1988-07-01    0.1\n",
              "1988-10-01    1.1\n",
              "1989-01-01    2.2\n",
              "1989-04-01    1.6\n",
              "1989-07-01   -1.3\n",
              "Name: gdfim, dtype: float64"
            ]
          },
          "metadata": {
            "tags": []
          },
          "execution_count": 7
        }
      ]
    },
    {
      "cell_type": "code",
      "metadata": {
        "id": "NLXBX4x-zCk8",
        "colab": {
          "base_uri": "https://localhost:8080/"
        },
        "outputId": "3e497941-7681-49c1-87e3-283e8baa1fed"
      },
      "source": [
        "result = sts.adfuller(dat_transformed)\n",
        "print('p-value: %f' % result[1])"
      ],
      "execution_count": 8,
      "outputs": [
        {
          "output_type": "stream",
          "text": [
            "p-value: 0.000554\n"
          ],
          "name": "stdout"
        }
      ]
    },
    {
      "cell_type": "code",
      "metadata": {
        "id": "AcVObge7zsT0"
      },
      "source": [
        "#!pip install pmdarima\n",
        "from pmdarima.arima import auto_arima"
      ],
      "execution_count": 9,
      "outputs": []
    },
    {
      "cell_type": "code",
      "metadata": {
        "id": "RIDaH9gnzyDg"
      },
      "source": [
        "model_auto = auto_arima(dat_transformed,d=0)"
      ],
      "execution_count": 10,
      "outputs": []
    },
    {
      "cell_type": "code",
      "metadata": {
        "id": "usJklgp70eO0",
        "colab": {
          "base_uri": "https://localhost:8080/"
        },
        "outputId": "5dd9f5e9-f3c6-4d4f-906e-961893ad6325"
      },
      "source": [
        "model_auto"
      ],
      "execution_count": 11,
      "outputs": [
        {
          "output_type": "execute_result",
          "data": {
            "text/plain": [
              "ARIMA(maxiter=50, method='lbfgs', order=(1, 0, 0), out_of_sample_size=0,\n",
              "      scoring='mse', scoring_args={}, seasonal_order=(0, 0, 0, 0),\n",
              "      start_params=None, suppress_warnings=True, trend=None,\n",
              "      with_intercept=True)"
            ]
          },
          "metadata": {
            "tags": []
          },
          "execution_count": 11
        }
      ]
    },
    {
      "cell_type": "code",
      "metadata": {
        "id": "7tt-v7g-U5FR"
      },
      "source": [
        "model_auto_ret = auto_arima(dat_ret,d=0)"
      ],
      "execution_count": 21,
      "outputs": []
    },
    {
      "cell_type": "code",
      "metadata": {
        "colab": {
          "base_uri": "https://localhost:8080/"
        },
        "id": "98LrCYTHU5hJ",
        "outputId": "a97a34b8-0b11-4389-a958-1ae1f7ab0c55"
      },
      "source": [
        "model_auto_ret"
      ],
      "execution_count": 22,
      "outputs": [
        {
          "output_type": "execute_result",
          "data": {
            "text/plain": [
              "ARIMA(maxiter=50, method='lbfgs', order=(1, 0, 0), out_of_sample_size=0,\n",
              "      scoring='mse', scoring_args={}, seasonal_order=(0, 0, 0, 0),\n",
              "      start_params=None, suppress_warnings=True, trend=None,\n",
              "      with_intercept=True)"
            ]
          },
          "metadata": {
            "tags": []
          },
          "execution_count": 22
        }
      ]
    },
    {
      "cell_type": "code",
      "metadata": {
        "id": "dBB9SkCs0SMv"
      },
      "source": [
        "pred=model_auto.predict(n_periods = 10)\n",
        "df_auto_pred = pd.DataFrame(pred)"
      ],
      "execution_count": 12,
      "outputs": []
    },
    {
      "cell_type": "code",
      "metadata": {
        "id": "qVWaYnfAVCMv"
      },
      "source": [
        "pred_ret = model_auto_ret.predict(n_periods = 10)\n",
        "df_auto_pred_ret = pd.DataFrame(pred_ret)"
      ],
      "execution_count": 23,
      "outputs": []
    },
    {
      "cell_type": "code",
      "metadata": {
        "colab": {
          "base_uri": "https://localhost:8080/"
        },
        "id": "ERGxoimEOav_",
        "outputId": "f7075831-7677-4e36-baa2-efea62d5ec17"
      },
      "source": [
        "dat.iloc[-1]"
      ],
      "execution_count": 13,
      "outputs": [
        {
          "output_type": "execute_result",
          "data": {
            "text/plain": [
              "109.8"
            ]
          },
          "metadata": {
            "tags": []
          },
          "execution_count": 13
        }
      ]
    },
    {
      "cell_type": "code",
      "metadata": {
        "id": "4FPkvhoDxkte"
      },
      "source": [
        "df_forecast= dat.iloc[-1] + df_auto_pred.cumsum()"
      ],
      "execution_count": 14,
      "outputs": []
    },
    {
      "cell_type": "code",
      "metadata": {
        "id": "xMIok3FhVJQJ"
      },
      "source": [
        "df_forecast_ret = dat.iloc[-1] + df_auto_pred_ret.cumsum()"
      ],
      "execution_count": 24,
      "outputs": []
    },
    {
      "cell_type": "code",
      "metadata": {
        "id": "NqnqIxI91c71",
        "colab": {
          "base_uri": "https://localhost:8080/",
          "height": 337
        },
        "outputId": "cc578b90-5cee-4c4a-ef76-c0f4240b26f2"
      },
      "source": [
        "df_forecast.plot(figsize = (20,5), color = \"red\")"
      ],
      "execution_count": 15,
      "outputs": [
        {
          "output_type": "execute_result",
          "data": {
            "text/plain": [
              "<matplotlib.axes._subplots.AxesSubplot at 0x7f67681b64d0>"
            ]
          },
          "metadata": {
            "tags": []
          },
          "execution_count": 15
        },
        {
          "output_type": "display_data",
          "data": {
            "image/png": "[encoded data removed]",
            "text/plain": [
              "<Figure size 1440x360 with 1 Axes>"
            ]
          },
          "metadata": {
            "tags": [],
            "needs_background": "light"
          }
        }
      ]
    },
    {
      "cell_type": "code",
      "metadata": {
        "colab": {
          "base_uri": "https://localhost:8080/",
          "height": 337
        },
        "id": "yX_f0qWiVPPX",
        "outputId": "42da4829-d63a-4b1c-eaca-84e5cdc1753f"
      },
      "source": [
        "df_forecast_ret.plot(figsize = (20,5), color = \"red\")"
      ],
      "execution_count": 25,
      "outputs": [
        {
          "output_type": "execute_result",
          "data": {
            "text/plain": [
              "<matplotlib.axes._subplots.AxesSubplot at 0x7f6767b41610>"
            ]
          },
          "metadata": {
            "tags": []
          },
          "execution_count": 25
        },
        {
          "output_type": "display_data",
          "data": {
            "image/png": "[encoded data removed]",
            "text/plain": [
              "<Figure size 1440x360 with 1 Axes>"
            ]
          },
          "metadata": {
            "tags": [],
            "needs_background": "light"
          }
        }
      ]
    },
    {
      "cell_type": "code",
      "metadata": {
        "id": "tocb4JoeG_W4",
        "colab": {
          "base_uri": "https://localhost:8080/"
        },
        "outputId": "92f7090b-f6c1-441d-f1bb-e43c70680147"
      },
      "source": [
        "dates=pd.date_range(start=\"1989-10-01\",freq='QS',periods=10)\n",
        "dates"
      ],
      "execution_count": 16,
      "outputs": [
        {
          "output_type": "execute_result",
          "data": {
            "text/plain": [
              "DatetimeIndex(['1989-10-01', '1990-01-01', '1990-04-01', '1990-07-01',\n",
              "               '1990-10-01', '1991-01-01', '1991-04-01', '1991-07-01',\n",
              "               '1991-10-01', '1992-01-01'],\n",
              "              dtype='datetime64[ns]', freq='QS-JAN')"
            ]
          },
          "metadata": {
            "tags": []
          },
          "execution_count": 16
        }
      ]
    },
    {
      "cell_type": "code",
      "metadata": {
        "colab": {
          "base_uri": "https://localhost:8080/",
          "height": 345
        },
        "id": "YWVzcG1PT75D",
        "outputId": "b9a07113-f0a4-4f91-d2f9-06ba4a271b74"
      },
      "source": [
        "df_forecast"
      ],
      "execution_count": 17,
      "outputs": [
        {
          "output_type": "execute_result",
          "data": {
            "text/html": [
              "<div>\n",
              "<style scoped>\n",
              "    .dataframe tbody tr th:only-of-type {\n",
              "        vertical-align: middle;\n",
              "    }\n",
              "\n",
              "    .dataframe tbody tr th {\n",
              "        vertical-align: top;\n",
              "    }\n",
              "\n",
              "    .dataframe thead th {\n",
              "        text-align: right;\n",
              "    }\n",
              "</style>\n",
              "<table border=\"1\" class=\"dataframe\">\n",
              "  <thead>\n",
              "    <tr style=\"text-align: right;\">\n",
              "      <th></th>\n",
              "      <th>0</th>\n",
              "    </tr>\n",
              "  </thead>\n",
              "  <tbody>\n",
              "    <tr>\n",
              "      <th>0</th>\n",
              "      <td>109.033172</td>\n",
              "    </tr>\n",
              "    <tr>\n",
              "      <th>1</th>\n",
              "      <td>108.651989</td>\n",
              "    </tr>\n",
              "    <tr>\n",
              "      <th>2</th>\n",
              "      <td>108.549744</td>\n",
              "    </tr>\n",
              "    <tr>\n",
              "      <th>3</th>\n",
              "      <td>108.649255</td>\n",
              "    </tr>\n",
              "    <tr>\n",
              "      <th>4</th>\n",
              "      <td>108.894696</td>\n",
              "    </tr>\n",
              "    <tr>\n",
              "      <th>5</th>\n",
              "      <td>109.245689</td>\n",
              "    </tr>\n",
              "    <tr>\n",
              "      <th>6</th>\n",
              "      <td>109.673028</td>\n",
              "    </tr>\n",
              "    <tr>\n",
              "      <th>7</th>\n",
              "      <td>110.155589</td>\n",
              "    </tr>\n",
              "    <tr>\n",
              "      <th>8</th>\n",
              "      <td>110.678091</td>\n",
              "    </tr>\n",
              "    <tr>\n",
              "      <th>9</th>\n",
              "      <td>111.229482</td>\n",
              "    </tr>\n",
              "  </tbody>\n",
              "</table>\n",
              "</div>"
            ],
            "text/plain": [
              "            0\n",
              "0  109.033172\n",
              "1  108.651989\n",
              "2  108.549744\n",
              "3  108.649255\n",
              "4  108.894696\n",
              "5  109.245689\n",
              "6  109.673028\n",
              "7  110.155589\n",
              "8  110.678091\n",
              "9  111.229482"
            ]
          },
          "metadata": {
            "tags": []
          },
          "execution_count": 17
        }
      ]
    },
    {
      "cell_type": "code",
      "metadata": {
        "id": "QH1j7xpFGJi4",
        "colab": {
          "base_uri": "https://localhost:8080/",
          "height": 196
        },
        "outputId": "2302643b-7972-44f1-ad64-ffda964b66d1"
      },
      "source": [
        "df_forecast.index=dates\n",
        "df_forecast.columns=['Predictions']\n",
        "df_forecast.head()"
      ],
      "execution_count": 18,
      "outputs": [
        {
          "output_type": "execute_result",
          "data": {
            "text/html": [
              "<div>\n",
              "<style scoped>\n",
              "    .dataframe tbody tr th:only-of-type {\n",
              "        vertical-align: middle;\n",
              "    }\n",
              "\n",
              "    .dataframe tbody tr th {\n",
              "        vertical-align: top;\n",
              "    }\n",
              "\n",
              "    .dataframe thead th {\n",
              "        text-align: right;\n",
              "    }\n",
              "</style>\n",
              "<table border=\"1\" class=\"dataframe\">\n",
              "  <thead>\n",
              "    <tr style=\"text-align: right;\">\n",
              "      <th></th>\n",
              "      <th>Predictions</th>\n",
              "    </tr>\n",
              "  </thead>\n",
              "  <tbody>\n",
              "    <tr>\n",
              "      <th>1989-10-01</th>\n",
              "      <td>109.033172</td>\n",
              "    </tr>\n",
              "    <tr>\n",
              "      <th>1990-01-01</th>\n",
              "      <td>108.651989</td>\n",
              "    </tr>\n",
              "    <tr>\n",
              "      <th>1990-04-01</th>\n",
              "      <td>108.549744</td>\n",
              "    </tr>\n",
              "    <tr>\n",
              "      <th>1990-07-01</th>\n",
              "      <td>108.649255</td>\n",
              "    </tr>\n",
              "    <tr>\n",
              "      <th>1990-10-01</th>\n",
              "      <td>108.894696</td>\n",
              "    </tr>\n",
              "  </tbody>\n",
              "</table>\n",
              "</div>"
            ],
            "text/plain": [
              "            Predictions\n",
              "1989-10-01   109.033172\n",
              "1990-01-01   108.651989\n",
              "1990-04-01   108.549744\n",
              "1990-07-01   108.649255\n",
              "1990-10-01   108.894696"
            ]
          },
          "metadata": {
            "tags": []
          },
          "execution_count": 18
        }
      ]
    },
    {
      "cell_type": "code",
      "metadata": {
        "colab": {
          "base_uri": "https://localhost:8080/",
          "height": 196
        },
        "id": "QUUo4se2VVmA",
        "outputId": "c0e7266f-0888-44ee-eec0-c30807331df7"
      },
      "source": [
        "df_forecast_ret.index = dates\n",
        "df_forecast_ret.columns = ['Predictions']\n",
        "df_forecast_ret.head()"
      ],
      "execution_count": 26,
      "outputs": [
        {
          "output_type": "execute_result",
          "data": {
            "text/html": [
              "<div>\n",
              "<style scoped>\n",
              "    .dataframe tbody tr th:only-of-type {\n",
              "        vertical-align: middle;\n",
              "    }\n",
              "\n",
              "    .dataframe tbody tr th {\n",
              "        vertical-align: top;\n",
              "    }\n",
              "\n",
              "    .dataframe thead th {\n",
              "        text-align: right;\n",
              "    }\n",
              "</style>\n",
              "<table border=\"1\" class=\"dataframe\">\n",
              "  <thead>\n",
              "    <tr style=\"text-align: right;\">\n",
              "      <th></th>\n",
              "      <th>Predictions</th>\n",
              "    </tr>\n",
              "  </thead>\n",
              "  <tbody>\n",
              "    <tr>\n",
              "      <th>1989-10-01</th>\n",
              "      <td>109.190639</td>\n",
              "    </tr>\n",
              "    <tr>\n",
              "      <th>1990-01-01</th>\n",
              "      <td>109.003596</td>\n",
              "    </tr>\n",
              "    <tr>\n",
              "      <th>1990-04-01</th>\n",
              "      <td>109.134611</td>\n",
              "    </tr>\n",
              "    <tr>\n",
              "      <th>1990-07-01</th>\n",
              "      <td>109.505162</td>\n",
              "    </tr>\n",
              "    <tr>\n",
              "      <th>1990-10-01</th>\n",
              "      <td>110.056114</td>\n",
              "    </tr>\n",
              "  </tbody>\n",
              "</table>\n",
              "</div>"
            ],
            "text/plain": [
              "            Predictions\n",
              "1989-10-01   109.190639\n",
              "1990-01-01   109.003596\n",
              "1990-04-01   109.134611\n",
              "1990-07-01   109.505162\n",
              "1990-10-01   110.056114"
            ]
          },
          "metadata": {
            "tags": []
          },
          "execution_count": 26
        }
      ]
    },
    {
      "cell_type": "code",
      "metadata": {
        "id": "0Ga1xUVUF1QA",
        "colab": {
          "base_uri": "https://localhost:8080/",
          "height": 359
        },
        "outputId": "7aaf49b3-a5d2-4862-fa40-e6bd631f1c77"
      },
      "source": [
        "import matplotlib.pyplot as plt\n",
        "\n",
        "df_forecast.plot(figsize = (10,5), color = \"red\")\n",
        "dat.plot(color = \"blue\")\n",
        "plt.title(\"Predictions\", size = 24)\n",
        "plt.show()"
      ],
      "execution_count": 19,
      "outputs": [
        {
          "output_type": "display_data",
          "data": {
            "image/png": "[encoded data removed]",
            "text/plain": [
              "<Figure size 720x360 with 1 Axes>"
            ]
          },
          "metadata": {
            "tags": [],
            "needs_background": "light"
          }
        }
      ]
    },
    {
      "cell_type": "code",
      "metadata": {
        "colab": {
          "base_uri": "https://localhost:8080/",
          "height": 359
        },
        "id": "QMcNcLUaVckf",
        "outputId": "3a891e75-5981-40d5-a32d-42b17b28e30c"
      },
      "source": [
        "df_forecast_ret.plot(figsize = (10,5), color = \"red\")\n",
        "dat.plot(color = \"blue\")\n",
        "plt.title(\"Predictions\", size = 24)\n",
        "plt.show()"
      ],
      "execution_count": 27,
      "outputs": [
        {
          "output_type": "display_data",
          "data": {
            "image/png": "[encoded data removed]",
            "text/plain": [
              "<Figure size 720x360 with 1 Axes>"
            ]
          },
          "metadata": {
            "tags": [],
            "needs_background": "light"
          }
        }
      ]
    }
  ]
}